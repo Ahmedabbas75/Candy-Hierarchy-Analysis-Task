{
 "cells": [
  {
   "cell_type": "markdown",
   "id": "1af7a2e0",
   "metadata": {},
   "source": [
    "### Loading Data & Libraries"
   ]
  },
  {
   "cell_type": "code",
   "execution_count": 2,
   "id": "852f065b",
   "metadata": {},
   "outputs": [],
   "source": [
    "import pandas as pd\n",
    "import numpy as np\n",
    "import matplotlib.pylab as plt\n",
    "import seaborn as sns\n",
    "from thefuzz import process,fuzz"
   ]
  },
  {
   "cell_type": "markdown",
   "id": "1845019d",
   "metadata": {},
   "source": [
    "### Remove Warning"
   ]
  },
  {
   "cell_type": "code",
   "execution_count": 3,
   "id": "0fe70113",
   "metadata": {},
   "outputs": [],
   "source": [
    "import warnings\n",
    "warnings.filterwarnings('ignore', category = UserWarning, module ='openpyxl')"
   ]
  },
  {
   "cell_type": "code",
   "execution_count": 4,
   "id": "3c45d4fd",
   "metadata": {},
   "outputs": [],
   "source": [
    "# read dataset\n",
    "candyData = pd.read_excel(\"candyhierarchy2017.xlsx\")"
   ]
  },
  {
   "cell_type": "markdown",
   "id": "27b7cf78",
   "metadata": {},
   "source": [
    "### Show Sample Of Data"
   ]
  },
  {
   "cell_type": "code",
   "execution_count": 5,
   "id": "5309d501",
   "metadata": {},
   "outputs": [
    {
     "data": {
      "text/html": [
       "<div>\n",
       "<style scoped>\n",
       "    .dataframe tbody tr th:only-of-type {\n",
       "        vertical-align: middle;\n",
       "    }\n",
       "\n",
       "    .dataframe tbody tr th {\n",
       "        vertical-align: top;\n",
       "    }\n",
       "\n",
       "    .dataframe thead th {\n",
       "        text-align: right;\n",
       "    }\n",
       "</style>\n",
       "<table border=\"1\" class=\"dataframe\">\n",
       "  <thead>\n",
       "    <tr style=\"text-align: right;\">\n",
       "      <th></th>\n",
       "      <th>Internal ID</th>\n",
       "      <th>Q1: GOING OUT?</th>\n",
       "      <th>Q2: GENDER</th>\n",
       "      <th>Q3: AGE</th>\n",
       "      <th>Q4: COUNTRY</th>\n",
       "      <th>Q5: STATE, PROVINCE, COUNTY, ETC</th>\n",
       "      <th>Q6 | 100 Grand Bar</th>\n",
       "      <th>Q6 | Anonymous brown globs that come in black and orange wrappers\\t(a.k.a. Mary Janes)</th>\n",
       "      <th>Q6 | Any full-sized candy bar</th>\n",
       "      <th>Q6 | Black Jacks</th>\n",
       "      <th>...</th>\n",
       "      <th>Q8: DESPAIR OTHER</th>\n",
       "      <th>Q9: OTHER COMMENTS</th>\n",
       "      <th>Q10: DRESS</th>\n",
       "      <th>Unnamed: 113</th>\n",
       "      <th>Q11: DAY</th>\n",
       "      <th>Q12: MEDIA [Daily Dish]</th>\n",
       "      <th>Q12: MEDIA [Science]</th>\n",
       "      <th>Q12: MEDIA [ESPN]</th>\n",
       "      <th>Q12: MEDIA [Yahoo]</th>\n",
       "      <th>Click Coordinates (x, y)</th>\n",
       "    </tr>\n",
       "  </thead>\n",
       "  <tbody>\n",
       "    <tr>\n",
       "      <th>0</th>\n",
       "      <td>90258773</td>\n",
       "      <td>NaN</td>\n",
       "      <td>NaN</td>\n",
       "      <td>NaN</td>\n",
       "      <td>NaN</td>\n",
       "      <td>NaN</td>\n",
       "      <td>NaN</td>\n",
       "      <td>NaN</td>\n",
       "      <td>NaN</td>\n",
       "      <td>NaN</td>\n",
       "      <td>...</td>\n",
       "      <td>NaN</td>\n",
       "      <td>NaN</td>\n",
       "      <td>NaN</td>\n",
       "      <td>NaN</td>\n",
       "      <td>NaN</td>\n",
       "      <td>NaN</td>\n",
       "      <td>NaN</td>\n",
       "      <td>NaN</td>\n",
       "      <td>NaN</td>\n",
       "      <td>NaN</td>\n",
       "    </tr>\n",
       "    <tr>\n",
       "      <th>1</th>\n",
       "      <td>90272821</td>\n",
       "      <td>No</td>\n",
       "      <td>Male</td>\n",
       "      <td>44</td>\n",
       "      <td>USA</td>\n",
       "      <td>NM</td>\n",
       "      <td>MEH</td>\n",
       "      <td>DESPAIR</td>\n",
       "      <td>JOY</td>\n",
       "      <td>MEH</td>\n",
       "      <td>...</td>\n",
       "      <td>NaN</td>\n",
       "      <td>Bottom line is Twix is really the only candy w...</td>\n",
       "      <td>White and gold</td>\n",
       "      <td>NaN</td>\n",
       "      <td>Sunday</td>\n",
       "      <td>NaN</td>\n",
       "      <td>1.0</td>\n",
       "      <td>NaN</td>\n",
       "      <td>NaN</td>\n",
       "      <td>(84, 25)</td>\n",
       "    </tr>\n",
       "    <tr>\n",
       "      <th>2</th>\n",
       "      <td>90272829</td>\n",
       "      <td>NaN</td>\n",
       "      <td>Male</td>\n",
       "      <td>49</td>\n",
       "      <td>USA</td>\n",
       "      <td>Virginia</td>\n",
       "      <td>NaN</td>\n",
       "      <td>NaN</td>\n",
       "      <td>NaN</td>\n",
       "      <td>NaN</td>\n",
       "      <td>...</td>\n",
       "      <td>NaN</td>\n",
       "      <td>NaN</td>\n",
       "      <td>NaN</td>\n",
       "      <td>NaN</td>\n",
       "      <td>NaN</td>\n",
       "      <td>NaN</td>\n",
       "      <td>NaN</td>\n",
       "      <td>NaN</td>\n",
       "      <td>NaN</td>\n",
       "      <td>NaN</td>\n",
       "    </tr>\n",
       "    <tr>\n",
       "      <th>3</th>\n",
       "      <td>90272840</td>\n",
       "      <td>No</td>\n",
       "      <td>Male</td>\n",
       "      <td>40</td>\n",
       "      <td>us</td>\n",
       "      <td>or</td>\n",
       "      <td>MEH</td>\n",
       "      <td>DESPAIR</td>\n",
       "      <td>JOY</td>\n",
       "      <td>MEH</td>\n",
       "      <td>...</td>\n",
       "      <td>NaN</td>\n",
       "      <td>Raisins can go to hell</td>\n",
       "      <td>White and gold</td>\n",
       "      <td>NaN</td>\n",
       "      <td>Sunday</td>\n",
       "      <td>NaN</td>\n",
       "      <td>1.0</td>\n",
       "      <td>NaN</td>\n",
       "      <td>NaN</td>\n",
       "      <td>(75, 23)</td>\n",
       "    </tr>\n",
       "    <tr>\n",
       "      <th>4</th>\n",
       "      <td>90272841</td>\n",
       "      <td>No</td>\n",
       "      <td>Male</td>\n",
       "      <td>23</td>\n",
       "      <td>usa</td>\n",
       "      <td>exton pa</td>\n",
       "      <td>JOY</td>\n",
       "      <td>DESPAIR</td>\n",
       "      <td>JOY</td>\n",
       "      <td>DESPAIR</td>\n",
       "      <td>...</td>\n",
       "      <td>NaN</td>\n",
       "      <td>NaN</td>\n",
       "      <td>White and gold</td>\n",
       "      <td>NaN</td>\n",
       "      <td>Friday</td>\n",
       "      <td>NaN</td>\n",
       "      <td>1.0</td>\n",
       "      <td>NaN</td>\n",
       "      <td>NaN</td>\n",
       "      <td>(70, 10)</td>\n",
       "    </tr>\n",
       "  </tbody>\n",
       "</table>\n",
       "<p>5 rows × 120 columns</p>\n",
       "</div>"
      ],
      "text/plain": [
       "   Internal ID Q1: GOING OUT? Q2: GENDER Q3: AGE Q4: COUNTRY  \\\n",
       "0     90258773            NaN        NaN     NaN         NaN   \n",
       "1     90272821             No       Male      44        USA    \n",
       "2     90272829            NaN       Male      49         USA   \n",
       "3     90272840             No       Male      40          us   \n",
       "4     90272841             No       Male      23         usa   \n",
       "\n",
       "  Q5: STATE, PROVINCE, COUNTY, ETC Q6 | 100 Grand Bar  \\\n",
       "0                              NaN                NaN   \n",
       "1                               NM                MEH   \n",
       "2                         Virginia                NaN   \n",
       "3                               or                MEH   \n",
       "4                         exton pa                JOY   \n",
       "\n",
       "  Q6 | Anonymous brown globs that come in black and orange wrappers\\t(a.k.a. Mary Janes)  \\\n",
       "0                                                NaN                                       \n",
       "1                                            DESPAIR                                       \n",
       "2                                                NaN                                       \n",
       "3                                            DESPAIR                                       \n",
       "4                                            DESPAIR                                       \n",
       "\n",
       "  Q6 | Any full-sized candy bar Q6 | Black Jacks  ... Q8: DESPAIR OTHER  \\\n",
       "0                           NaN              NaN  ...               NaN   \n",
       "1                           JOY              MEH  ...               NaN   \n",
       "2                           NaN              NaN  ...               NaN   \n",
       "3                           JOY              MEH  ...               NaN   \n",
       "4                           JOY          DESPAIR  ...               NaN   \n",
       "\n",
       "                                  Q9: OTHER COMMENTS      Q10: DRESS  \\\n",
       "0                                                NaN             NaN   \n",
       "1  Bottom line is Twix is really the only candy w...  White and gold   \n",
       "2                                                NaN             NaN   \n",
       "3                             Raisins can go to hell  White and gold   \n",
       "4                                                NaN  White and gold   \n",
       "\n",
       "  Unnamed: 113 Q11: DAY Q12: MEDIA [Daily Dish] Q12: MEDIA [Science]  \\\n",
       "0          NaN      NaN                     NaN                  NaN   \n",
       "1          NaN   Sunday                     NaN                  1.0   \n",
       "2          NaN      NaN                     NaN                  NaN   \n",
       "3          NaN   Sunday                     NaN                  1.0   \n",
       "4          NaN   Friday                     NaN                  1.0   \n",
       "\n",
       "  Q12: MEDIA [ESPN] Q12: MEDIA [Yahoo] Click Coordinates (x, y)  \n",
       "0               NaN                NaN                      NaN  \n",
       "1               NaN                NaN                 (84, 25)  \n",
       "2               NaN                NaN                      NaN  \n",
       "3               NaN                NaN                 (75, 23)  \n",
       "4               NaN                NaN                 (70, 10)  \n",
       "\n",
       "[5 rows x 120 columns]"
      ]
     },
     "execution_count": 5,
     "metadata": {},
     "output_type": "execute_result"
    }
   ],
   "source": [
    "candyData.head()"
   ]
  },
  {
   "cell_type": "code",
   "execution_count": 6,
   "id": "0b831b0e",
   "metadata": {},
   "outputs": [
    {
     "data": {
      "text/html": [
       "<div>\n",
       "<style scoped>\n",
       "    .dataframe tbody tr th:only-of-type {\n",
       "        vertical-align: middle;\n",
       "    }\n",
       "\n",
       "    .dataframe tbody tr th {\n",
       "        vertical-align: top;\n",
       "    }\n",
       "\n",
       "    .dataframe thead th {\n",
       "        text-align: right;\n",
       "    }\n",
       "</style>\n",
       "<table border=\"1\" class=\"dataframe\">\n",
       "  <thead>\n",
       "    <tr style=\"text-align: right;\">\n",
       "      <th></th>\n",
       "      <th>Internal ID</th>\n",
       "      <th>Q1: GOING OUT?</th>\n",
       "      <th>Q2: GENDER</th>\n",
       "      <th>Q3: AGE</th>\n",
       "      <th>Q4: COUNTRY</th>\n",
       "      <th>Q5: STATE, PROVINCE, COUNTY, ETC</th>\n",
       "      <th>Q6 | 100 Grand Bar</th>\n",
       "      <th>Q6 | Anonymous brown globs that come in black and orange wrappers\\t(a.k.a. Mary Janes)</th>\n",
       "      <th>Q6 | Any full-sized candy bar</th>\n",
       "      <th>Q6 | Black Jacks</th>\n",
       "      <th>...</th>\n",
       "      <th>Q8: DESPAIR OTHER</th>\n",
       "      <th>Q9: OTHER COMMENTS</th>\n",
       "      <th>Q10: DRESS</th>\n",
       "      <th>Unnamed: 113</th>\n",
       "      <th>Q11: DAY</th>\n",
       "      <th>Q12: MEDIA [Daily Dish]</th>\n",
       "      <th>Q12: MEDIA [Science]</th>\n",
       "      <th>Q12: MEDIA [ESPN]</th>\n",
       "      <th>Q12: MEDIA [Yahoo]</th>\n",
       "      <th>Click Coordinates (x, y)</th>\n",
       "    </tr>\n",
       "  </thead>\n",
       "  <tbody>\n",
       "    <tr>\n",
       "      <th>2455</th>\n",
       "      <td>90314359</td>\n",
       "      <td>No</td>\n",
       "      <td>Male</td>\n",
       "      <td>24</td>\n",
       "      <td>USA</td>\n",
       "      <td>MD</td>\n",
       "      <td>JOY</td>\n",
       "      <td>DESPAIR</td>\n",
       "      <td>MEH</td>\n",
       "      <td>DESPAIR</td>\n",
       "      <td>...</td>\n",
       "      <td>Fruit Stripe Gum</td>\n",
       "      <td>NaN</td>\n",
       "      <td>White and gold</td>\n",
       "      <td>NaN</td>\n",
       "      <td>Friday</td>\n",
       "      <td>NaN</td>\n",
       "      <td>NaN</td>\n",
       "      <td>NaN</td>\n",
       "      <td>NaN</td>\n",
       "      <td>NaN</td>\n",
       "    </tr>\n",
       "    <tr>\n",
       "      <th>2456</th>\n",
       "      <td>90314580</td>\n",
       "      <td>No</td>\n",
       "      <td>Female</td>\n",
       "      <td>33</td>\n",
       "      <td>USA</td>\n",
       "      <td>New York</td>\n",
       "      <td>MEH</td>\n",
       "      <td>DESPAIR</td>\n",
       "      <td>JOY</td>\n",
       "      <td>NaN</td>\n",
       "      <td>...</td>\n",
       "      <td>Capers</td>\n",
       "      <td>NaN</td>\n",
       "      <td>Blue and black</td>\n",
       "      <td>NaN</td>\n",
       "      <td>Friday</td>\n",
       "      <td>NaN</td>\n",
       "      <td>1.0</td>\n",
       "      <td>NaN</td>\n",
       "      <td>NaN</td>\n",
       "      <td>(70, 26)</td>\n",
       "    </tr>\n",
       "    <tr>\n",
       "      <th>2457</th>\n",
       "      <td>90314634</td>\n",
       "      <td>No</td>\n",
       "      <td>Female</td>\n",
       "      <td>26</td>\n",
       "      <td>USA</td>\n",
       "      <td>Tennessee</td>\n",
       "      <td>MEH</td>\n",
       "      <td>DESPAIR</td>\n",
       "      <td>JOY</td>\n",
       "      <td>DESPAIR</td>\n",
       "      <td>...</td>\n",
       "      <td>NaN</td>\n",
       "      <td>NaN</td>\n",
       "      <td>Blue and black</td>\n",
       "      <td>NaN</td>\n",
       "      <td>Friday</td>\n",
       "      <td>NaN</td>\n",
       "      <td>1.0</td>\n",
       "      <td>NaN</td>\n",
       "      <td>NaN</td>\n",
       "      <td>(67, 35)</td>\n",
       "    </tr>\n",
       "    <tr>\n",
       "      <th>2458</th>\n",
       "      <td>90314658</td>\n",
       "      <td>No</td>\n",
       "      <td>Male</td>\n",
       "      <td>58</td>\n",
       "      <td>Usa</td>\n",
       "      <td>North Carolina</td>\n",
       "      <td>NaN</td>\n",
       "      <td>NaN</td>\n",
       "      <td>NaN</td>\n",
       "      <td>NaN</td>\n",
       "      <td>...</td>\n",
       "      <td>NaN</td>\n",
       "      <td>NaN</td>\n",
       "      <td>NaN</td>\n",
       "      <td>NaN</td>\n",
       "      <td>NaN</td>\n",
       "      <td>NaN</td>\n",
       "      <td>NaN</td>\n",
       "      <td>NaN</td>\n",
       "      <td>NaN</td>\n",
       "      <td>NaN</td>\n",
       "    </tr>\n",
       "    <tr>\n",
       "      <th>2459</th>\n",
       "      <td>90314802</td>\n",
       "      <td>No</td>\n",
       "      <td>Female</td>\n",
       "      <td>66</td>\n",
       "      <td>usa</td>\n",
       "      <td>Pennsylvania</td>\n",
       "      <td>DESPAIR</td>\n",
       "      <td>DESPAIR</td>\n",
       "      <td>JOY</td>\n",
       "      <td>DESPAIR</td>\n",
       "      <td>...</td>\n",
       "      <td>NaN</td>\n",
       "      <td>You hit all my chocolate highlights, and broug...</td>\n",
       "      <td>White and gold</td>\n",
       "      <td>NaN</td>\n",
       "      <td>Sunday</td>\n",
       "      <td>1.0</td>\n",
       "      <td>NaN</td>\n",
       "      <td>NaN</td>\n",
       "      <td>NaN</td>\n",
       "      <td>(19, 26)</td>\n",
       "    </tr>\n",
       "  </tbody>\n",
       "</table>\n",
       "<p>5 rows × 120 columns</p>\n",
       "</div>"
      ],
      "text/plain": [
       "      Internal ID Q1: GOING OUT? Q2: GENDER Q3: AGE Q4: COUNTRY  \\\n",
       "2455     90314359             No       Male      24         USA   \n",
       "2456     90314580             No     Female      33         USA   \n",
       "2457     90314634             No     Female      26        USA    \n",
       "2458     90314658             No       Male      58         Usa   \n",
       "2459     90314802             No     Female      66         usa   \n",
       "\n",
       "     Q5: STATE, PROVINCE, COUNTY, ETC Q6 | 100 Grand Bar  \\\n",
       "2455                               MD                JOY   \n",
       "2456                         New York                MEH   \n",
       "2457                        Tennessee                MEH   \n",
       "2458                   North Carolina                NaN   \n",
       "2459                     Pennsylvania            DESPAIR   \n",
       "\n",
       "     Q6 | Anonymous brown globs that come in black and orange wrappers\\t(a.k.a. Mary Janes)  \\\n",
       "2455                                            DESPAIR                                       \n",
       "2456                                            DESPAIR                                       \n",
       "2457                                            DESPAIR                                       \n",
       "2458                                                NaN                                       \n",
       "2459                                            DESPAIR                                       \n",
       "\n",
       "     Q6 | Any full-sized candy bar Q6 | Black Jacks  ... Q8: DESPAIR OTHER  \\\n",
       "2455                           MEH          DESPAIR  ...  Fruit Stripe Gum   \n",
       "2456                           JOY              NaN  ...            Capers   \n",
       "2457                           JOY          DESPAIR  ...               NaN   \n",
       "2458                           NaN              NaN  ...               NaN   \n",
       "2459                           JOY          DESPAIR  ...               NaN   \n",
       "\n",
       "                                     Q9: OTHER COMMENTS      Q10: DRESS  \\\n",
       "2455                                                NaN  White and gold   \n",
       "2456                                                NaN  Blue and black   \n",
       "2457                                                NaN  Blue and black   \n",
       "2458                                                NaN             NaN   \n",
       "2459  You hit all my chocolate highlights, and broug...  White and gold   \n",
       "\n",
       "     Unnamed: 113 Q11: DAY Q12: MEDIA [Daily Dish] Q12: MEDIA [Science]  \\\n",
       "2455          NaN   Friday                     NaN                  NaN   \n",
       "2456          NaN   Friday                     NaN                  1.0   \n",
       "2457          NaN   Friday                     NaN                  1.0   \n",
       "2458          NaN      NaN                     NaN                  NaN   \n",
       "2459          NaN   Sunday                     1.0                  NaN   \n",
       "\n",
       "     Q12: MEDIA [ESPN] Q12: MEDIA [Yahoo] Click Coordinates (x, y)  \n",
       "2455               NaN                NaN                      NaN  \n",
       "2456               NaN                NaN                 (70, 26)  \n",
       "2457               NaN                NaN                 (67, 35)  \n",
       "2458               NaN                NaN                      NaN  \n",
       "2459               NaN                NaN                 (19, 26)  \n",
       "\n",
       "[5 rows x 120 columns]"
      ]
     },
     "execution_count": 6,
     "metadata": {},
     "output_type": "execute_result"
    }
   ],
   "source": [
    "candyData.tail()"
   ]
  },
  {
   "cell_type": "markdown",
   "id": "c3dd9da0",
   "metadata": {},
   "source": [
    "### Show More Info"
   ]
  },
  {
   "cell_type": "code",
   "execution_count": 7,
   "id": "e1fc31ae",
   "metadata": {},
   "outputs": [
    {
     "data": {
      "text/plain": [
       "(2460, 120)"
      ]
     },
     "execution_count": 7,
     "metadata": {},
     "output_type": "execute_result"
    }
   ],
   "source": [
    "candyData.shape"
   ]
  },
  {
   "cell_type": "code",
   "execution_count": 8,
   "id": "b60aed76",
   "metadata": {},
   "outputs": [
    {
     "data": {
      "text/plain": [
       "Internal ID                    0\n",
       "Q1: GOING OUT?               110\n",
       "Q2: GENDER                    41\n",
       "Q3: AGE                       84\n",
       "Q4: COUNTRY                   64\n",
       "                            ... \n",
       "Q12: MEDIA [Daily Dish]     2375\n",
       "Q12: MEDIA [Science]        1098\n",
       "Q12: MEDIA [ESPN]           2361\n",
       "Q12: MEDIA [Yahoo]          2393\n",
       "Click Coordinates (x, y)     855\n",
       "Length: 120, dtype: int64"
      ]
     },
     "execution_count": 8,
     "metadata": {},
     "output_type": "execute_result"
    }
   ],
   "source": [
    "candyData.isna().sum()"
   ]
  },
  {
   "cell_type": "code",
   "execution_count": 9,
   "id": "de728448",
   "metadata": {},
   "outputs": [
    {
     "data": {
      "text/plain": [
       "False"
      ]
     },
     "execution_count": 9,
     "metadata": {},
     "output_type": "execute_result"
    }
   ],
   "source": [
    "candyData.duplicated().any()"
   ]
  },
  {
   "cell_type": "code",
   "execution_count": 10,
   "id": "ba156995",
   "metadata": {},
   "outputs": [
    {
     "data": {
      "text/html": [
       "<div>\n",
       "<style scoped>\n",
       "    .dataframe tbody tr th:only-of-type {\n",
       "        vertical-align: middle;\n",
       "    }\n",
       "\n",
       "    .dataframe tbody tr th {\n",
       "        vertical-align: top;\n",
       "    }\n",
       "\n",
       "    .dataframe thead th {\n",
       "        text-align: right;\n",
       "    }\n",
       "</style>\n",
       "<table border=\"1\" class=\"dataframe\">\n",
       "  <thead>\n",
       "    <tr style=\"text-align: right;\">\n",
       "      <th></th>\n",
       "      <th>Internal ID</th>\n",
       "      <th>Q12: MEDIA [Daily Dish]</th>\n",
       "      <th>Q12: MEDIA [Science]</th>\n",
       "      <th>Q12: MEDIA [ESPN]</th>\n",
       "      <th>Q12: MEDIA [Yahoo]</th>\n",
       "    </tr>\n",
       "  </thead>\n",
       "  <tbody>\n",
       "    <tr>\n",
       "      <th>count</th>\n",
       "      <td>2.460000e+03</td>\n",
       "      <td>85.0</td>\n",
       "      <td>1362.0</td>\n",
       "      <td>99.0</td>\n",
       "      <td>67.0</td>\n",
       "    </tr>\n",
       "    <tr>\n",
       "      <th>mean</th>\n",
       "      <td>9.028016e+07</td>\n",
       "      <td>1.0</td>\n",
       "      <td>1.0</td>\n",
       "      <td>1.0</td>\n",
       "      <td>1.0</td>\n",
       "    </tr>\n",
       "    <tr>\n",
       "      <th>std</th>\n",
       "      <td>7.435532e+03</td>\n",
       "      <td>0.0</td>\n",
       "      <td>0.0</td>\n",
       "      <td>0.0</td>\n",
       "      <td>0.0</td>\n",
       "    </tr>\n",
       "    <tr>\n",
       "      <th>min</th>\n",
       "      <td>9.025877e+07</td>\n",
       "      <td>1.0</td>\n",
       "      <td>1.0</td>\n",
       "      <td>1.0</td>\n",
       "      <td>1.0</td>\n",
       "    </tr>\n",
       "    <tr>\n",
       "      <th>25%</th>\n",
       "      <td>9.027520e+07</td>\n",
       "      <td>1.0</td>\n",
       "      <td>1.0</td>\n",
       "      <td>1.0</td>\n",
       "      <td>1.0</td>\n",
       "    </tr>\n",
       "    <tr>\n",
       "      <th>50%</th>\n",
       "      <td>9.027780e+07</td>\n",
       "      <td>1.0</td>\n",
       "      <td>1.0</td>\n",
       "      <td>1.0</td>\n",
       "      <td>1.0</td>\n",
       "    </tr>\n",
       "    <tr>\n",
       "      <th>75%</th>\n",
       "      <td>9.028242e+07</td>\n",
       "      <td>1.0</td>\n",
       "      <td>1.0</td>\n",
       "      <td>1.0</td>\n",
       "      <td>1.0</td>\n",
       "    </tr>\n",
       "    <tr>\n",
       "      <th>max</th>\n",
       "      <td>9.031480e+07</td>\n",
       "      <td>1.0</td>\n",
       "      <td>1.0</td>\n",
       "      <td>1.0</td>\n",
       "      <td>1.0</td>\n",
       "    </tr>\n",
       "  </tbody>\n",
       "</table>\n",
       "</div>"
      ],
      "text/plain": [
       "        Internal ID  Q12: MEDIA [Daily Dish]  Q12: MEDIA [Science]  \\\n",
       "count  2.460000e+03                     85.0                1362.0   \n",
       "mean   9.028016e+07                      1.0                   1.0   \n",
       "std    7.435532e+03                      0.0                   0.0   \n",
       "min    9.025877e+07                      1.0                   1.0   \n",
       "25%    9.027520e+07                      1.0                   1.0   \n",
       "50%    9.027780e+07                      1.0                   1.0   \n",
       "75%    9.028242e+07                      1.0                   1.0   \n",
       "max    9.031480e+07                      1.0                   1.0   \n",
       "\n",
       "       Q12: MEDIA [ESPN]  Q12: MEDIA [Yahoo]  \n",
       "count               99.0                67.0  \n",
       "mean                 1.0                 1.0  \n",
       "std                  0.0                 0.0  \n",
       "min                  1.0                 1.0  \n",
       "25%                  1.0                 1.0  \n",
       "50%                  1.0                 1.0  \n",
       "75%                  1.0                 1.0  \n",
       "max                  1.0                 1.0  "
      ]
     },
     "execution_count": 10,
     "metadata": {},
     "output_type": "execute_result"
    }
   ],
   "source": [
    "candyData.describe()"
   ]
  },
  {
   "cell_type": "markdown",
   "id": "bbb12077",
   "metadata": {},
   "source": [
    "### Above cells' conclusion\n",
    "\n",
    "- Dataset has missing values\n",
    "- Dataset has no complete duplicates\n",
    "- We need to remove some columns not use\n",
    "- We need to modify some column datatype\n",
    "- We need to rename some column name to avoid confusion\n",
    "- describe method no given information "
   ]
  },
  {
   "cell_type": "markdown",
   "id": "22fe638b",
   "metadata": {},
   "source": [
    "## Cleaning"
   ]
  },
  {
   "cell_type": "code",
   "execution_count": 11,
   "id": "0bbfcb7b",
   "metadata": {},
   "outputs": [
    {
     "name": "stdout",
     "output_type": "stream",
     "text": [
      "Column Q7: JOY OTHER contains 1549 nan value\n",
      "\n",
      "Column Q8: DESPAIR OTHER contains 1743 nan value\n",
      "\n",
      "Column Q9: OTHER COMMENTS contains 2074 nan value\n",
      "\n",
      "Column Unnamed: 113 contains 2451 nan value\n",
      "\n",
      "Column Q12: MEDIA [Daily Dish] contains 2375 nan value\n",
      "\n",
      "Column Q12: MEDIA [ESPN] contains 2361 nan value\n",
      "\n",
      "Column Q12: MEDIA [Yahoo] contains 2393 nan value\n",
      "\n"
     ]
    }
   ],
   "source": [
    "# show columns that hase more 50 % nan value\n",
    "\n",
    "for i in range(len(candyData.isnull().sum())):\n",
    "    if candyData.isna().sum()[i] >1229 :\n",
    "        print(f\"Column {candyData.isna().sum().index[i]} contains {candyData.isna().sum()[i]} nan value\\n\")"
   ]
  },
  {
   "cell_type": "code",
   "execution_count": 12,
   "id": "5ae06c39",
   "metadata": {},
   "outputs": [],
   "source": [
    "# drop columns we not used\n",
    "\n",
    "candyData.drop(columns = [\"Internal ID\", \"Unnamed: 113\", \"Click Coordinates (x, y)\", \"Q5: STATE, PROVINCE, COUNTY, ETC\"], inplace = True)"
   ]
  },
  {
   "cell_type": "code",
   "execution_count": 13,
   "id": "32945dd2",
   "metadata": {},
   "outputs": [],
   "source": [
    "# drop columns that contain more than 50 % nan value except Q12\n",
    "\n",
    "candyData.drop(columns=[\"Q7: JOY OTHER\", \"Q8: DESPAIR OTHER\", \"Q9: OTHER COMMENTS\"],inplace= True)"
   ]
  },
  {
   "cell_type": "code",
   "execution_count": 14,
   "id": "2104b7ff",
   "metadata": {},
   "outputs": [],
   "source": [
    "# handle candyData columns name\n",
    "\n",
    "# 1- create dictionary key is old name and value is new name\n",
    "newNames = {\"Q1: GOING OUT?\" :\"going out\", \"Q2: GENDER\": \"gender\", \"Q3: AGE\": \"age\", \"Q4: COUNTRY\": \"country\",\n",
    "            \"Q10: DRESS\" : \"dress\", \"Q12: MEDIA [Science]\":\"Science\",\"Q11: DAY\": \"day\", \"Q12: MEDIA [Daily Dish]\":\"Daily Dish\",\n",
    "            \"Q12: MEDIA [ESPN]\":\"ESPN\", \"Q12: MEDIA [Yahoo]\":\"Yahoo\"}\n",
    "\n",
    "# 2- rename columns\n",
    "candyData.rename(columns = newNames, inplace= True)"
   ]
  },
  {
   "cell_type": "code",
   "execution_count": 15,
   "id": "6cb0d2a5",
   "metadata": {},
   "outputs": [
    {
     "data": {
      "text/html": [
       "<div>\n",
       "<style scoped>\n",
       "    .dataframe tbody tr th:only-of-type {\n",
       "        vertical-align: middle;\n",
       "    }\n",
       "\n",
       "    .dataframe tbody tr th {\n",
       "        vertical-align: top;\n",
       "    }\n",
       "\n",
       "    .dataframe thead th {\n",
       "        text-align: right;\n",
       "    }\n",
       "</style>\n",
       "<table border=\"1\" class=\"dataframe\">\n",
       "  <thead>\n",
       "    <tr style=\"text-align: right;\">\n",
       "      <th></th>\n",
       "      <th>going out</th>\n",
       "      <th>gender</th>\n",
       "      <th>age</th>\n",
       "      <th>country</th>\n",
       "      <th>Q6 | 100 Grand Bar</th>\n",
       "      <th>Q6 | Anonymous brown globs that come in black and orange wrappers\\t(a.k.a. Mary Janes)</th>\n",
       "      <th>Q6 | Any full-sized candy bar</th>\n",
       "      <th>Q6 | Black Jacks</th>\n",
       "      <th>Q6 | Bonkers (the candy)</th>\n",
       "      <th>Q6 | Bonkers (the board game)</th>\n",
       "      <th>...</th>\n",
       "      <th>Q6 | Whatchamacallit Bars</th>\n",
       "      <th>Q6 | White Bread</th>\n",
       "      <th>Q6 | Whole Wheat anything</th>\n",
       "      <th>Q6 | York Peppermint Patties</th>\n",
       "      <th>dress</th>\n",
       "      <th>day</th>\n",
       "      <th>Daily Dish</th>\n",
       "      <th>Science</th>\n",
       "      <th>ESPN</th>\n",
       "      <th>Yahoo</th>\n",
       "    </tr>\n",
       "  </thead>\n",
       "  <tbody>\n",
       "    <tr>\n",
       "      <th>2458</th>\n",
       "      <td>No</td>\n",
       "      <td>Male</td>\n",
       "      <td>58</td>\n",
       "      <td>Usa</td>\n",
       "      <td>NaN</td>\n",
       "      <td>NaN</td>\n",
       "      <td>NaN</td>\n",
       "      <td>NaN</td>\n",
       "      <td>NaN</td>\n",
       "      <td>NaN</td>\n",
       "      <td>...</td>\n",
       "      <td>NaN</td>\n",
       "      <td>NaN</td>\n",
       "      <td>NaN</td>\n",
       "      <td>NaN</td>\n",
       "      <td>NaN</td>\n",
       "      <td>NaN</td>\n",
       "      <td>NaN</td>\n",
       "      <td>NaN</td>\n",
       "      <td>NaN</td>\n",
       "      <td>NaN</td>\n",
       "    </tr>\n",
       "    <tr>\n",
       "      <th>1488</th>\n",
       "      <td>No</td>\n",
       "      <td>Male</td>\n",
       "      <td>76</td>\n",
       "      <td>usa</td>\n",
       "      <td>MEH</td>\n",
       "      <td>NaN</td>\n",
       "      <td>JOY</td>\n",
       "      <td>MEH</td>\n",
       "      <td>MEH</td>\n",
       "      <td>DESPAIR</td>\n",
       "      <td>...</td>\n",
       "      <td>DESPAIR</td>\n",
       "      <td>DESPAIR</td>\n",
       "      <td>DESPAIR</td>\n",
       "      <td>JOY</td>\n",
       "      <td>Blue and black</td>\n",
       "      <td>Friday</td>\n",
       "      <td>NaN</td>\n",
       "      <td>1.0</td>\n",
       "      <td>NaN</td>\n",
       "      <td>NaN</td>\n",
       "    </tr>\n",
       "    <tr>\n",
       "      <th>1282</th>\n",
       "      <td>No</td>\n",
       "      <td>Male</td>\n",
       "      <td>58</td>\n",
       "      <td>US</td>\n",
       "      <td>MEH</td>\n",
       "      <td>DESPAIR</td>\n",
       "      <td>JOY</td>\n",
       "      <td>DESPAIR</td>\n",
       "      <td>NaN</td>\n",
       "      <td>NaN</td>\n",
       "      <td>...</td>\n",
       "      <td>NaN</td>\n",
       "      <td>NaN</td>\n",
       "      <td>DESPAIR</td>\n",
       "      <td>JOY</td>\n",
       "      <td>Blue and black</td>\n",
       "      <td>Friday</td>\n",
       "      <td>NaN</td>\n",
       "      <td>NaN</td>\n",
       "      <td>NaN</td>\n",
       "      <td>1.0</td>\n",
       "    </tr>\n",
       "    <tr>\n",
       "      <th>1101</th>\n",
       "      <td>No</td>\n",
       "      <td>Male</td>\n",
       "      <td>55</td>\n",
       "      <td>USA</td>\n",
       "      <td>MEH</td>\n",
       "      <td>DESPAIR</td>\n",
       "      <td>JOY</td>\n",
       "      <td>DESPAIR</td>\n",
       "      <td>MEH</td>\n",
       "      <td>MEH</td>\n",
       "      <td>...</td>\n",
       "      <td>JOY</td>\n",
       "      <td>DESPAIR</td>\n",
       "      <td>DESPAIR</td>\n",
       "      <td>JOY</td>\n",
       "      <td>White and gold</td>\n",
       "      <td>Friday</td>\n",
       "      <td>NaN</td>\n",
       "      <td>1.0</td>\n",
       "      <td>NaN</td>\n",
       "      <td>NaN</td>\n",
       "    </tr>\n",
       "    <tr>\n",
       "      <th>2019</th>\n",
       "      <td>No</td>\n",
       "      <td>Male</td>\n",
       "      <td>42</td>\n",
       "      <td>USA</td>\n",
       "      <td>JOY</td>\n",
       "      <td>JOY</td>\n",
       "      <td>JOY</td>\n",
       "      <td>MEH</td>\n",
       "      <td>MEH</td>\n",
       "      <td>MEH</td>\n",
       "      <td>...</td>\n",
       "      <td>JOY</td>\n",
       "      <td>DESPAIR</td>\n",
       "      <td>DESPAIR</td>\n",
       "      <td>JOY</td>\n",
       "      <td>White and gold</td>\n",
       "      <td>Friday</td>\n",
       "      <td>NaN</td>\n",
       "      <td>NaN</td>\n",
       "      <td>NaN</td>\n",
       "      <td>NaN</td>\n",
       "    </tr>\n",
       "  </tbody>\n",
       "</table>\n",
       "<p>5 rows × 113 columns</p>\n",
       "</div>"
      ],
      "text/plain": [
       "     going out gender age country Q6 | 100 Grand Bar  \\\n",
       "2458        No   Male  58     Usa                NaN   \n",
       "1488        No   Male  76     usa                MEH   \n",
       "1282        No   Male  58      US                MEH   \n",
       "1101        No   Male  55     USA                MEH   \n",
       "2019        No   Male  42     USA                JOY   \n",
       "\n",
       "     Q6 | Anonymous brown globs that come in black and orange wrappers\\t(a.k.a. Mary Janes)  \\\n",
       "2458                                                NaN                                       \n",
       "1488                                                NaN                                       \n",
       "1282                                            DESPAIR                                       \n",
       "1101                                            DESPAIR                                       \n",
       "2019                                                JOY                                       \n",
       "\n",
       "     Q6 | Any full-sized candy bar Q6 | Black Jacks Q6 | Bonkers (the candy)  \\\n",
       "2458                           NaN              NaN                      NaN   \n",
       "1488                           JOY              MEH                      MEH   \n",
       "1282                           JOY          DESPAIR                      NaN   \n",
       "1101                           JOY          DESPAIR                      MEH   \n",
       "2019                           JOY              MEH                      MEH   \n",
       "\n",
       "     Q6 | Bonkers (the board game)  ... Q6 | Whatchamacallit Bars  \\\n",
       "2458                           NaN  ...                       NaN   \n",
       "1488                       DESPAIR  ...                   DESPAIR   \n",
       "1282                           NaN  ...                       NaN   \n",
       "1101                           MEH  ...                       JOY   \n",
       "2019                           MEH  ...                       JOY   \n",
       "\n",
       "     Q6 | White Bread Q6 | Whole Wheat anything Q6 | York Peppermint Patties  \\\n",
       "2458              NaN                       NaN                          NaN   \n",
       "1488          DESPAIR                   DESPAIR                          JOY   \n",
       "1282              NaN                   DESPAIR                          JOY   \n",
       "1101          DESPAIR                   DESPAIR                          JOY   \n",
       "2019          DESPAIR                   DESPAIR                          JOY   \n",
       "\n",
       "               dress     day Daily Dish Science ESPN Yahoo  \n",
       "2458             NaN     NaN        NaN     NaN  NaN   NaN  \n",
       "1488  Blue and black  Friday        NaN     1.0  NaN   NaN  \n",
       "1282  Blue and black  Friday        NaN     NaN  NaN   1.0  \n",
       "1101  White and gold  Friday        NaN     1.0  NaN   NaN  \n",
       "2019  White and gold  Friday        NaN     NaN  NaN   NaN  \n",
       "\n",
       "[5 rows x 113 columns]"
      ]
     },
     "execution_count": 15,
     "metadata": {},
     "output_type": "execute_result"
    }
   ],
   "source": [
    "# show sample of dataframe\n",
    "\n",
    "candyData.sample(5)"
   ]
  },
  {
   "cell_type": "markdown",
   "id": "73dece6e",
   "metadata": {},
   "source": [
    "# Univariate Analysis"
   ]
  },
  {
   "cell_type": "markdown",
   "id": "7ab26ed5",
   "metadata": {},
   "source": [
    "### Discovering `going out` column"
   ]
  },
  {
   "cell_type": "code",
   "execution_count": 16,
   "id": "310b9ff8",
   "metadata": {},
   "outputs": [
    {
     "data": {
      "text/plain": [
       "array([nan, 'No', 'Yes'], dtype=object)"
      ]
     },
     "execution_count": 16,
     "metadata": {},
     "output_type": "execute_result"
    }
   ],
   "source": [
    "# show unique values\n",
    "\n",
    "candyData[\"going out\"].unique()"
   ]
  },
  {
   "cell_type": "code",
   "execution_count": 17,
   "id": "e653f697",
   "metadata": {},
   "outputs": [
    {
     "data": {
      "text/plain": [
       "No     2038\n",
       "Yes     312\n",
       "Name: going out, dtype: int64"
      ]
     },
     "execution_count": 17,
     "metadata": {},
     "output_type": "execute_result"
    }
   ],
   "source": [
    "# output value counts of each unique values\n",
    "\n",
    "candyData[\"going out\"].value_counts()"
   ]
  },
  {
   "cell_type": "code",
   "execution_count": 18,
   "id": "fcff01d7",
   "metadata": {},
   "outputs": [
    {
     "data": {
      "text/plain": [
       "110"
      ]
     },
     "execution_count": 18,
     "metadata": {},
     "output_type": "execute_result"
    }
   ],
   "source": [
    "# show how many nan value \n",
    "\n",
    "candyData[\"going out\"].isna().sum() "
   ]
  },
  {
   "cell_type": "code",
   "execution_count": 19,
   "id": "0d4eea92",
   "metadata": {},
   "outputs": [],
   "source": [
    "# fill nan value with maybe (yse,no)\n",
    "candyData[\"going out\"].fillna(\"MayBe\",inplace= True)"
   ]
  },
  {
   "cell_type": "code",
   "execution_count": 20,
   "id": "f1a48d81",
   "metadata": {},
   "outputs": [
    {
     "data": {
      "image/png": "[encoded data removed]",
      "text/plain": [
       "<Figure size 640x480 with 1 Axes>"
      ]
     },
     "metadata": {},
     "output_type": "display_data"
    }
   ],
   "source": [
    "sns.countplot(x = \"going out\", data = candyData, order = candyData[\"going out\"].value_counts().index)\n",
    "plt.title(\"going out distribution\")\n",
    "plt.show()"
   ]
  },
  {
   "cell_type": "markdown",
   "id": "4d63bc05",
   "metadata": {},
   "source": [
    "- #### Most people are not going out"
   ]
  },
  {
   "cell_type": "markdown",
   "id": "e1dc0af4",
   "metadata": {},
   "source": [
    "### Discovering `Gender` column"
   ]
  },
  {
   "cell_type": "code",
   "execution_count": 21,
   "id": "96d2bbbd",
   "metadata": {},
   "outputs": [
    {
     "data": {
      "text/plain": [
       "array([nan, 'Male', 'Female', \"I'd rather not say\", 'Other'], dtype=object)"
      ]
     },
     "execution_count": 21,
     "metadata": {},
     "output_type": "execute_result"
    }
   ],
   "source": [
    "# show unique values\n",
    "\n",
    "candyData[\"gender\"].unique()"
   ]
  },
  {
   "cell_type": "code",
   "execution_count": 22,
   "id": "5b0629bc",
   "metadata": {},
   "outputs": [
    {
     "data": {
      "text/plain": [
       "Male                  1467\n",
       "Female                 839\n",
       "I'd rather not say      83\n",
       "Other                   30\n",
       "Name: gender, dtype: int64"
      ]
     },
     "execution_count": 22,
     "metadata": {},
     "output_type": "execute_result"
    }
   ],
   "source": [
    "# output value counts of each unique values\n",
    "\n",
    "candyData[\"gender\"].value_counts()"
   ]
  },
  {
   "cell_type": "code",
   "execution_count": 23,
   "id": "27ff3e7d",
   "metadata": {},
   "outputs": [
    {
     "data": {
      "text/plain": [
       "41"
      ]
     },
     "execution_count": 23,
     "metadata": {},
     "output_type": "execute_result"
    }
   ],
   "source": [
    "# show how many nan value \n",
    "\n",
    "candyData[\"gender\"].isna().sum() "
   ]
  },
  {
   "cell_type": "code",
   "execution_count": 24,
   "id": "f4fab51d",
   "metadata": {},
   "outputs": [],
   "source": [
    "# fill nan value \n",
    "\n",
    "candyData[\"gender\"].fillna(\"I'd rather not say\",inplace= True)"
   ]
  },
  {
   "cell_type": "code",
   "execution_count": 25,
   "id": "6b67e438",
   "metadata": {},
   "outputs": [],
   "source": [
    "# replace Other with I'd rather not say\n",
    "\n",
    "candyData[\"gender\"].replace(\"Other\", \"I'd rather not say\", inplace= True)"
   ]
  },
  {
   "cell_type": "code",
   "execution_count": 26,
   "id": "b313bb09",
   "metadata": {},
   "outputs": [
    {
     "data": {
      "image/png": "[encoded data removed]",
      "text/plain": [
       "<Figure size 640x480 with 1 Axes>"
      ]
     },
     "metadata": {},
     "output_type": "display_data"
    }
   ],
   "source": [
    "sns.countplot(x = \"gender\", data = candyData, order = candyData[\"gender\"].value_counts().index)\n",
    "plt.title(\"Gender\")\n",
    "plt.show()"
   ]
  },
  {
   "cell_type": "markdown",
   "id": "661ca316",
   "metadata": {},
   "source": [
    "- #### Male is the most common gender"
   ]
  },
  {
   "cell_type": "markdown",
   "id": "e2f4e0ce",
   "metadata": {},
   "source": [
    "### Discovering `age` column"
   ]
  },
  {
   "cell_type": "code",
   "execution_count": 27,
   "id": "7b3da69f",
   "metadata": {},
   "outputs": [
    {
     "data": {
      "text/plain": [
       "array([nan, 44, 49, 40, 23, 53, 33, 43, 56, 64, 37, 59, 48, 54, 36, 45,\n",
       "       25, 34, 35, 38, 58, 50, 47, 16, 52, 63, 65, 41, 27, 31, 61, 46, 42,\n",
       "       62, 29, 39, 32, 28, 69, 67, 30, 22, 26, 51, 70, 24, 18, 19,\n",
       "       'Old enough', 57, 60, 66, 12, 'Many', 55, 72, '?', 21, 11, 'no', 9,\n",
       "       68, 20, 6, 10, 71, 90, 13, '45-55', 312, 99, 7, 'hahahahaha', 88,\n",
       "       39.4, 74, 102, 'older than dirt', 17, 15, 8, 75, '5u', 'Enough',\n",
       "       'See question 2', '24-50', 14, 'Over 50', 100, 76, 1000,\n",
       "       'sixty-nine', '46 Halloweens.', 'ancient', 77, 'OLD', 'old', 73,\n",
       "       70.5, 1, 'MY NAME JEFF', 4, '59 on the day after Halloween',\n",
       "       'old enough', 'your mom',\n",
       "       'I can remember when Java was a cool new language', '60+'],\n",
       "      dtype=object)"
      ]
     },
     "execution_count": 27,
     "metadata": {},
     "output_type": "execute_result"
    }
   ],
   "source": [
    "# show unique values\n",
    "\n",
    "candyData[\"age\"].unique()"
   ]
  },
  {
   "cell_type": "code",
   "execution_count": 28,
   "id": "639e78ce",
   "metadata": {},
   "outputs": [],
   "source": [
    "# replace non nomeric to nan value\n",
    "\n",
    "candyData['age'] = pd.to_numeric(candyData[\"age\"], errors = \"coerce\")"
   ]
  },
  {
   "cell_type": "code",
   "execution_count": 29,
   "id": "a362b5c1",
   "metadata": {},
   "outputs": [
    {
     "data": {
      "text/plain": [
       "108"
      ]
     },
     "execution_count": 29,
     "metadata": {},
     "output_type": "execute_result"
    }
   ],
   "source": [
    "# show how many nan value \n",
    "\n",
    "candyData[\"age\"].isna().sum()"
   ]
  },
  {
   "cell_type": "code",
   "execution_count": 30,
   "id": "9ecdcf06",
   "metadata": {},
   "outputs": [
    {
     "data": {
      "text/html": [
       "<div>\n",
       "<style scoped>\n",
       "    .dataframe tbody tr th:only-of-type {\n",
       "        vertical-align: middle;\n",
       "    }\n",
       "\n",
       "    .dataframe tbody tr th {\n",
       "        vertical-align: top;\n",
       "    }\n",
       "\n",
       "    .dataframe thead th {\n",
       "        text-align: right;\n",
       "    }\n",
       "</style>\n",
       "<table border=\"1\" class=\"dataframe\">\n",
       "  <thead>\n",
       "    <tr style=\"text-align: right;\">\n",
       "      <th></th>\n",
       "      <th>age</th>\n",
       "    </tr>\n",
       "  </thead>\n",
       "  <tbody>\n",
       "    <tr>\n",
       "      <th>count</th>\n",
       "      <td>2352.000000</td>\n",
       "    </tr>\n",
       "    <tr>\n",
       "      <th>mean</th>\n",
       "      <td>42.617304</td>\n",
       "    </tr>\n",
       "    <tr>\n",
       "      <th>std</th>\n",
       "      <td>23.846531</td>\n",
       "    </tr>\n",
       "    <tr>\n",
       "      <th>min</th>\n",
       "      <td>1.000000</td>\n",
       "    </tr>\n",
       "    <tr>\n",
       "      <th>25%</th>\n",
       "      <td>34.000000</td>\n",
       "    </tr>\n",
       "    <tr>\n",
       "      <th>50%</th>\n",
       "      <td>41.000000</td>\n",
       "    </tr>\n",
       "    <tr>\n",
       "      <th>75%</th>\n",
       "      <td>50.000000</td>\n",
       "    </tr>\n",
       "    <tr>\n",
       "      <th>max</th>\n",
       "      <td>1000.000000</td>\n",
       "    </tr>\n",
       "  </tbody>\n",
       "</table>\n",
       "</div>"
      ],
      "text/plain": [
       "               age\n",
       "count  2352.000000\n",
       "mean     42.617304\n",
       "std      23.846531\n",
       "min       1.000000\n",
       "25%      34.000000\n",
       "50%      41.000000\n",
       "75%      50.000000\n",
       "max    1000.000000"
      ]
     },
     "execution_count": 30,
     "metadata": {},
     "output_type": "execute_result"
    }
   ],
   "source": [
    "# show summary statistic\n",
    "\n",
    "candyData[[\"age\"]].describe()"
   ]
  },
  {
   "cell_type": "markdown",
   "id": "87ff9aba",
   "metadata": {},
   "source": [
    "### `age` column has outliers we need to fixed"
   ]
  },
  {
   "cell_type": "code",
   "execution_count": 32,
   "id": "c36c606c",
   "metadata": {},
   "outputs": [],
   "source": [
    "# fixed outlier\n",
    "\n",
    "Q1, Q3 = candyData[\"age\"].quantile(0.25), candyData[\"age\"].quantile(0.75)\n",
    "\n",
    "IQR = Q3 - Q1\n",
    "\n",
    "Upper = Q3 + (1.5 * IQR)\n",
    "Lower = Q1 - (1.5 * IQR)\n",
    "\n",
    "# replace out of range with nan value\n",
    "candyData.loc[(candyData[\"age\"] > Upper) | (candyData[\"age\"] < Lower), \"age\"] = np.nan"
   ]
  },
  {
   "cell_type": "code",
   "execution_count": 33,
   "id": "67de594e",
   "metadata": {},
   "outputs": [],
   "source": [
    "# fill nan value with mean\n",
    "\n",
    "average = candyData[\"age\"].mean()\n",
    "candyData[\"age\"].fillna(average, inplace = True)"
   ]
  },
  {
   "cell_type": "code",
   "execution_count": 34,
   "id": "532ad067",
   "metadata": {},
   "outputs": [
    {
     "data": {
      "text/html": [
       "<div>\n",
       "<style scoped>\n",
       "    .dataframe tbody tr th:only-of-type {\n",
       "        vertical-align: middle;\n",
       "    }\n",
       "\n",
       "    .dataframe tbody tr th {\n",
       "        vertical-align: top;\n",
       "    }\n",
       "\n",
       "    .dataframe thead th {\n",
       "        text-align: right;\n",
       "    }\n",
       "</style>\n",
       "<table border=\"1\" class=\"dataframe\">\n",
       "  <thead>\n",
       "    <tr style=\"text-align: right;\">\n",
       "      <th></th>\n",
       "      <th>age</th>\n",
       "    </tr>\n",
       "  </thead>\n",
       "  <tbody>\n",
       "    <tr>\n",
       "      <th>count</th>\n",
       "      <td>2460.000000</td>\n",
       "    </tr>\n",
       "    <tr>\n",
       "      <th>mean</th>\n",
       "      <td>42.029204</td>\n",
       "    </tr>\n",
       "    <tr>\n",
       "      <th>std</th>\n",
       "      <td>11.140769</td>\n",
       "    </tr>\n",
       "    <tr>\n",
       "      <th>min</th>\n",
       "      <td>10.000000</td>\n",
       "    </tr>\n",
       "    <tr>\n",
       "      <th>25%</th>\n",
       "      <td>35.000000</td>\n",
       "    </tr>\n",
       "    <tr>\n",
       "      <th>50%</th>\n",
       "      <td>42.000000</td>\n",
       "    </tr>\n",
       "    <tr>\n",
       "      <th>75%</th>\n",
       "      <td>49.000000</td>\n",
       "    </tr>\n",
       "    <tr>\n",
       "      <th>max</th>\n",
       "      <td>74.000000</td>\n",
       "    </tr>\n",
       "  </tbody>\n",
       "</table>\n",
       "</div>"
      ],
      "text/plain": [
       "               age\n",
       "count  2460.000000\n",
       "mean     42.029204\n",
       "std      11.140769\n",
       "min      10.000000\n",
       "25%      35.000000\n",
       "50%      42.000000\n",
       "75%      49.000000\n",
       "max      74.000000"
      ]
     },
     "execution_count": 34,
     "metadata": {},
     "output_type": "execute_result"
    }
   ],
   "source": [
    "# show summary statistic\n",
    "\n",
    "candyData[[\"age\"]].describe()"
   ]
  },
  {
   "cell_type": "code",
   "execution_count": 35,
   "id": "2d70269c",
   "metadata": {},
   "outputs": [
    {
     "data": {
      "image/png": "[encoded data removed]",
      "text/plain": [
       "<Figure size 640x480 with 1 Axes>"
      ]
     },
     "metadata": {},
     "output_type": "display_data"
    }
   ],
   "source": [
    "sns.histplot(x = \"age\", data = candyData)\n",
    "plt.title(\"age distribution\")\n",
    "plt.show()"
   ]
  },
  {
   "cell_type": "markdown",
   "id": "6a154f1b",
   "metadata": {},
   "source": [
    "- #### Most people who did the survey were between 35 and 50"
   ]
  },
  {
   "cell_type": "markdown",
   "id": "e561ad89",
   "metadata": {},
   "source": [
    "### Discovering `country` column"
   ]
  },
  {
   "cell_type": "code",
   "execution_count": 36,
   "id": "1f262a37",
   "metadata": {},
   "outputs": [
    {
     "data": {
      "text/plain": [
       "array([nan, 'USA ', 'USA', 'us', 'usa', 'canada', 'Canada', 'Us', 'US',\n",
       "       'Murica', 'United States', 'uk', 'United Kingdom', 'united states',\n",
       "       'Usa', 'United States ', 'United staes',\n",
       "       'United States of America', 'UAE', 'England', 'UK', 'canada ',\n",
       "       'Mexico', 'United states', 'u.s.a.', 'USAUSAUSA', 'america', 35,\n",
       "       'france', 'United States of America ', 'U.S.A.', 'finland',\n",
       "       'unhinged states', 'Canada ', 'united states of america',\n",
       "       'US of A', 'Unites States', 'The United States', 'North Carolina ',\n",
       "       'Unied States', 'Netherlands', 'germany', 'Europe', 'Earth', 'U S',\n",
       "       'u.s.', 'U.K. ', 'Costa Rica', 'The United States of America',\n",
       "       'unite states', 'U.S.', 46, 'cascadia', 'Australia',\n",
       "       'insanity lately', 'Greece', 'USA? Hard to tell anymore..',\n",
       "       \"'merica\", 'usas', 'Pittsburgh', 45, 'United State', 32, 'France',\n",
       "       'australia', 'A', 'Can', 'Canae', 'New York', 'Trumpistan',\n",
       "       'Ireland', 'United Sates', 'Korea', 'California', 'Japan', 'USa',\n",
       "       'South africa',\n",
       "       'I pretend to be from Canada, but I am really from the United States.',\n",
       "       'Usa ', 'Uk', 'Iceland', 'Germany', 'Canada`', 'Scotland', 'UK ',\n",
       "       'Denmark', 'United Stated', 'France ', 'Switzerland',\n",
       "       'Ahem....Amerca', 'UD', 'Scotland ', 'South Korea', 'New Jersey',\n",
       "       'CANADA', 'Indonesia', 'United ststes', 'America',\n",
       "       'The Netherlands', 'United Statss', 'endland', 'Atlantis',\n",
       "       'murrika', 'USA! USA! USA!', 'USAA', 'Alaska', 'united States ',\n",
       "       'soviet canuckistan', 'N. America', 'Singapore', 'USSA', 'China',\n",
       "       'Taiwan', 'Ireland ', 'hong kong', 'spain', 'Sweden', 'Hong Kong',\n",
       "       'U.S. ', 'Narnia', 'u s a', 'United Statea', 'united ststes', 1,\n",
       "       'subscribe to dm4uz3 on youtube', 'United kingdom',\n",
       "       'USA USA USA!!!!', \"I don't know anymore\", 'Fear and Loathing'],\n",
       "      dtype=object)"
      ]
     },
     "execution_count": 36,
     "metadata": {},
     "output_type": "execute_result"
    }
   ],
   "source": [
    "# show unique values\n",
    "\n",
    "candyData[\"country\"].unique()"
   ]
  },
  {
   "cell_type": "code",
   "execution_count": 37,
   "id": "dd709700",
   "metadata": {},
   "outputs": [],
   "source": [
    "# fixed some errors\n",
    "\n",
    "# 1- convert all value to lower case\n",
    "candyData[\"country\"] = candyData[\"country\"].str.lower()\n",
    "\n",
    "# 2- remove extra spaces \n",
    "candyData[\"country\"] = candyData[\"country\"].str.strip()"
   ]
  },
  {
   "cell_type": "code",
   "execution_count": 38,
   "id": "dd14cd22",
   "metadata": {},
   "outputs": [
    {
     "data": {
      "text/plain": [
       "69"
      ]
     },
     "execution_count": 38,
     "metadata": {},
     "output_type": "execute_result"
    }
   ],
   "source": [
    "# show how many nan value \n",
    "\n",
    "candyData[\"country\"].isna().sum() "
   ]
  },
  {
   "cell_type": "code",
   "execution_count": 39,
   "id": "96a9ad70",
   "metadata": {},
   "outputs": [],
   "source": [
    "# fill nan value\n",
    "\n",
    "candyData[\"country\"].fillna(\"Other country\", inplace = True)"
   ]
  },
  {
   "cell_type": "code",
   "execution_count": 40,
   "id": "855adb4e",
   "metadata": {},
   "outputs": [
    {
     "data": {
      "text/plain": [
       "array(['Other country', 'usa', 'us', 'canada', 'murica', 'united states',\n",
       "       'uk', 'united kingdom', 'united staes', 'united states of america',\n",
       "       'uae', 'england', 'mexico', 'u.s.a.', 'usausausa', 'america',\n",
       "       'france', 'finland', 'unhinged states', 'us of a', 'unites states',\n",
       "       'the united states', 'north carolina', 'unied states',\n",
       "       'netherlands', 'germany', 'europe', 'earth', 'u s', 'u.s.', 'u.k.',\n",
       "       'costa rica', 'the united states of america', 'unite states',\n",
       "       'cascadia', 'australia', 'insanity lately', 'greece',\n",
       "       'usa? hard to tell anymore..', \"'merica\", 'usas', 'pittsburgh',\n",
       "       'united state', 'a', 'can', 'canae', 'new york', 'trumpistan',\n",
       "       'ireland', 'united sates', 'korea', 'california', 'japan',\n",
       "       'south africa',\n",
       "       'i pretend to be from canada, but i am really from the united states.',\n",
       "       'iceland', 'canada`', 'scotland', 'denmark', 'united stated',\n",
       "       'switzerland', 'ahem....amerca', 'ud', 'south korea', 'new jersey',\n",
       "       'indonesia', 'united ststes', 'the netherlands', 'united statss',\n",
       "       'endland', 'atlantis', 'murrika', 'usa! usa! usa!', 'usaa',\n",
       "       'alaska', 'soviet canuckistan', 'n. america', 'singapore', 'ussa',\n",
       "       'china', 'taiwan', 'hong kong', 'spain', 'sweden', 'narnia',\n",
       "       'u s a', 'united statea', 'subscribe to dm4uz3 on youtube',\n",
       "       'usa usa usa!!!!', \"i don't know anymore\", 'fear and loathing'],\n",
       "      dtype=object)"
      ]
     },
     "execution_count": 40,
     "metadata": {},
     "output_type": "execute_result"
    }
   ],
   "source": [
    "# show again unique value\n",
    "\n",
    "candyData[\"country\"].unique()"
   ]
  },
  {
   "cell_type": "code",
   "execution_count": 41,
   "id": "41eb64fd",
   "metadata": {
    "scrolled": true
   },
   "outputs": [
    {
     "name": "stderr",
     "output_type": "stream",
     "text": [
      "C:\\Users\\Ahmed_abbas\\AppData\\Local\\Temp\\ipykernel_15716\\2660519598.py:15: FutureWarning: The default value of regex will change from True to False in a future version. In addition, single character regular expressions will *not* be treated as literal strings when regex=True.\n",
      "  candyData[\"country\"] = candyData[\"country\"].str.replace(\".\",\"\")\n"
     ]
    }
   ],
   "source": [
    "# fixed some errors\n",
    "\n",
    "# 1- create list of countries \n",
    "correct_countries = [\"usa\", \"united states\", \"canada\", \"america\", \"united kingdom\"]\n",
    "\n",
    "# 2- Replace name of country with the corresponding name\n",
    "for test_country in correct_countries:\n",
    "    matches = process.extract(test_country, candyData['country'], limit = candyData.shape[0])\n",
    "    \n",
    "    for matching in matches:\n",
    "        if matching[1] >= 80:\n",
    "            candyData.loc[candyData['country'] == matching[0], 'country'] = test_country\n",
    "            \n",
    "# 3- remove dot from words\n",
    "candyData[\"country\"] = candyData[\"country\"].str.replace(\".\",\"\")\n",
    "\n",
    "# 4- replace some words with other\n",
    "candyData[\"country\"] = candyData[\"country\"].replace([\"united states\", \"america\", \"new jersey\", \"u s a\",\"us of a\",\n",
    "                                                     \"north carolina\", \"new york\", \"usa? hard to tell anymore\",\"usa\",\n",
    "                                                     \"mexico\", \"california\"],\"USA\")\n",
    "\n",
    "candyData[\"country\"] = candyData[\"country\"].replace([\"uk\", \"united kingdom\", \"endland\", \"france\"], \"UK\")\n",
    "\n",
    "\n",
    "candyData[\"country\"] = candyData[\"country\"].replace([\"netherlands\", \"germany\",\"iceland\", \"scotland\", \"ireland\", \"greece\",\n",
    "                                                    \"finland\", \"europe\", \"switzerland\", \"sweden\", \"denmark\", \"spain\",\n",
    "                                                     \"the netherlands\"], \"Other european countries\")\n",
    "\n",
    "candyData['country'] = candyData['country'].replace([\"japan\", \"uae\", \"hong kong\", \"china\", \"indonesia\", \"south korea\",\n",
    "                                                     \"singapore\", \"korea\", \"taiwan\"],\"Asian countries\")\n",
    "\n",
    "\n",
    "candyData[\"country\"] = candyData[\"country\"].replace([\"fear and loathing\", \"england\", \"murica\", \"earth\", \"costa rica\", \n",
    "                                                     \"insanity lately\", \"trumpistan\",\"canae\", \"ud\", \"pittsburgh\",\"murrika\",\n",
    "                                                     \"atlantis\",\"soviet canuckistan\", \"alaska\",\"subscribe to dm4uz3 on youtube\",\n",
    "                                                     \"narnia\", \"south africa\",\"i don't know anymore\", \"cascadia\"],\n",
    "                                                     \"Other country\")\n",
    "\n"
   ]
  },
  {
   "cell_type": "code",
   "execution_count": 42,
   "id": "c4b28061",
   "metadata": {},
   "outputs": [
    {
     "data": {
      "text/plain": [
       "array(['Other country', 'USA', 'canada', 'UK', 'Asian countries',\n",
       "       'Other european countries', 'australia'], dtype=object)"
      ]
     },
     "execution_count": 42,
     "metadata": {},
     "output_type": "execute_result"
    }
   ],
   "source": [
    "# show again unique value\n",
    "\n",
    "candyData[\"country\"].unique()"
   ]
  },
  {
   "cell_type": "code",
   "execution_count": 43,
   "id": "df3b8c79",
   "metadata": {},
   "outputs": [
    {
     "data": {
      "text/plain": [
       "USA                         2049\n",
       "canada                       226\n",
       "Other country                 88\n",
       "Other european countries      38\n",
       "UK                            37\n",
       "Asian countries               15\n",
       "australia                      7\n",
       "Name: country, dtype: int64"
      ]
     },
     "execution_count": 43,
     "metadata": {},
     "output_type": "execute_result"
    }
   ],
   "source": [
    "# output value counts of each unique values\n",
    "\n",
    "candyData[\"country\"].value_counts()"
   ]
  },
  {
   "cell_type": "code",
   "execution_count": 44,
   "id": "8c2a499d",
   "metadata": {},
   "outputs": [
    {
     "data": {
      "image/png": "[encoded data removed]",
      "text/plain": [
       "<Figure size 1500x800 with 1 Axes>"
      ]
     },
     "metadata": {},
     "output_type": "display_data"
    }
   ],
   "source": [
    "plt.figure(figsize = (15,8))\n",
    "sns.countplot(x = \"country\", data = candyData, order = candyData[\"country\"].value_counts().index )\n",
    "plt.title(\"country distirbution\")\n",
    "plt.show()"
   ]
  },
  {
   "cell_type": "markdown",
   "id": "9f740ea9",
   "metadata": {},
   "source": [
    "- #### Most countries from USA and Canada"
   ]
  },
  {
   "cell_type": "markdown",
   "id": "a9b71c4f",
   "metadata": {},
   "source": [
    "### Discovering `dress` column"
   ]
  },
  {
   "cell_type": "code",
   "execution_count": 45,
   "id": "aff179a3",
   "metadata": {},
   "outputs": [
    {
     "data": {
      "text/plain": [
       "array([nan, 'White and gold', 'Blue and black'], dtype=object)"
      ]
     },
     "execution_count": 45,
     "metadata": {},
     "output_type": "execute_result"
    }
   ],
   "source": [
    "# show unique values\n",
    "\n",
    "candyData[\"dress\"].unique()"
   ]
  },
  {
   "cell_type": "code",
   "execution_count": 46,
   "id": "274a13ac",
   "metadata": {},
   "outputs": [
    {
     "data": {
      "text/plain": [
       "White and gold    1081\n",
       "Blue and black     635\n",
       "Name: dress, dtype: int64"
      ]
     },
     "execution_count": 46,
     "metadata": {},
     "output_type": "execute_result"
    }
   ],
   "source": [
    "# output value counts of each unique values\n",
    "\n",
    "candyData[\"dress\"].value_counts()"
   ]
  },
  {
   "cell_type": "code",
   "execution_count": 47,
   "id": "7966aa6c",
   "metadata": {},
   "outputs": [
    {
     "data": {
      "text/plain": [
       "744"
      ]
     },
     "execution_count": 47,
     "metadata": {},
     "output_type": "execute_result"
    }
   ],
   "source": [
    "# show how many nan value \n",
    "\n",
    "candyData[\"dress\"].isna().sum() "
   ]
  },
  {
   "cell_type": "code",
   "execution_count": 48,
   "id": "da2ec4a4",
   "metadata": {},
   "outputs": [],
   "source": [
    "# fill nan value\n",
    "\n",
    "candyData[\"dress\"].fillna(\"Other colors\", inplace = True)"
   ]
  },
  {
   "cell_type": "code",
   "execution_count": 49,
   "id": "9715ef6e",
   "metadata": {},
   "outputs": [
    {
     "data": {
      "image/png": "[encoded data removed]",
      "text/plain": [
       "<Figure size 640x480 with 1 Axes>"
      ]
     },
     "metadata": {},
     "output_type": "display_data"
    }
   ],
   "source": [
    "sns.countplot(x = \"dress\", data = candyData, order = candyData[\"dress\"].value_counts().index )\n",
    "plt.title(\"Dress\")\n",
    "plt.show()"
   ]
  },
  {
   "cell_type": "markdown",
   "id": "1c1e99b9",
   "metadata": {},
   "source": [
    "- #### Most people like dress white and gold"
   ]
  },
  {
   "cell_type": "markdown",
   "id": "aa0ba647",
   "metadata": {},
   "source": [
    "### Discovering `day` column"
   ]
  },
  {
   "cell_type": "code",
   "execution_count": 50,
   "id": "5cd7dee9",
   "metadata": {},
   "outputs": [
    {
     "data": {
      "text/plain": [
       "array([nan, 'Sunday', 'Friday'], dtype=object)"
      ]
     },
     "execution_count": 50,
     "metadata": {},
     "output_type": "execute_result"
    }
   ],
   "source": [
    "# show unique values\n",
    "\n",
    "candyData[\"day\"].unique()"
   ]
  },
  {
   "cell_type": "code",
   "execution_count": 51,
   "id": "5d3741b1",
   "metadata": {},
   "outputs": [
    {
     "data": {
      "text/plain": [
       "725"
      ]
     },
     "execution_count": 51,
     "metadata": {},
     "output_type": "execute_result"
    }
   ],
   "source": [
    "# show how many nan value \n",
    "\n",
    "candyData[\"day\"].isna().sum()"
   ]
  },
  {
   "cell_type": "code",
   "execution_count": 52,
   "id": "b2934063",
   "metadata": {},
   "outputs": [],
   "source": [
    "# fill nan value \n",
    "\n",
    "candyData[\"day\"].fillna(\"Other Day\", inplace = True)  "
   ]
  },
  {
   "cell_type": "code",
   "execution_count": 53,
   "id": "2c6bc1ec",
   "metadata": {},
   "outputs": [
    {
     "data": {
      "text/plain": [
       "Friday       1091\n",
       "Other Day     725\n",
       "Sunday        644\n",
       "Name: day, dtype: int64"
      ]
     },
     "execution_count": 53,
     "metadata": {},
     "output_type": "execute_result"
    }
   ],
   "source": [
    "# # output value counts of each unique values\n",
    "\n",
    "candyData[\"day\"].value_counts()"
   ]
  },
  {
   "cell_type": "code",
   "execution_count": 54,
   "id": "1bcf8092",
   "metadata": {},
   "outputs": [
    {
     "data": {
      "image/png": "[encoded data removed]",
      "text/plain": [
       "<Figure size 640x480 with 1 Axes>"
      ]
     },
     "metadata": {},
     "output_type": "display_data"
    }
   ],
   "source": [
    "sns.countplot(x = \"day\", data = candyData, order = candyData[\"day\"].value_counts().index)\n",
    "plt.title(\"Day distribution\")\n",
    "plt.show()"
   ]
  },
  {
   "cell_type": "markdown",
   "id": "6ba6c169",
   "metadata": {},
   "source": [
    "- #### Most people preferred friday"
   ]
  },
  {
   "cell_type": "markdown",
   "id": "bfbeb9ab",
   "metadata": {},
   "source": [
    "### Discovering `Science` column"
   ]
  },
  {
   "cell_type": "code",
   "execution_count": 55,
   "id": "35a182a6",
   "metadata": {},
   "outputs": [
    {
     "data": {
      "text/plain": [
       "array([nan,  1.])"
      ]
     },
     "execution_count": 55,
     "metadata": {},
     "output_type": "execute_result"
    }
   ],
   "source": [
    "# show unique values\n",
    "\n",
    "candyData[\"Science\"].unique()"
   ]
  },
  {
   "cell_type": "code",
   "execution_count": 56,
   "id": "00ef0ca2",
   "metadata": {},
   "outputs": [
    {
     "data": {
      "text/plain": [
       "1098"
      ]
     },
     "execution_count": 56,
     "metadata": {},
     "output_type": "execute_result"
    }
   ],
   "source": [
    "# show how many nan value \n",
    "\n",
    "candyData[\"Science\"].isna().sum()"
   ]
  },
  {
   "cell_type": "code",
   "execution_count": 59,
   "id": "fd8a9580",
   "metadata": {},
   "outputs": [],
   "source": [
    "# fill nan value \n",
    "\n",
    "candyData[\"Science\"].fillna(\"unknown\", inplace = True)"
   ]
  },
  {
   "cell_type": "code",
   "execution_count": 60,
   "id": "fb4dc4e7",
   "metadata": {},
   "outputs": [
    {
     "data": {
      "text/plain": [
       "1.0        1362\n",
       "unknown    1098\n",
       "Name: Science, dtype: int64"
      ]
     },
     "execution_count": 60,
     "metadata": {},
     "output_type": "execute_result"
    }
   ],
   "source": [
    "# # output value counts of each unique values\n",
    "\n",
    "candyData[\"Science\"].value_counts()"
   ]
  },
  {
   "cell_type": "code",
   "execution_count": 61,
   "id": "bcf5d801",
   "metadata": {},
   "outputs": [
    {
     "data": {
      "image/png": "[encoded data removed]",
      "text/plain": [
       "<Figure size 640x480 with 1 Axes>"
      ]
     },
     "metadata": {},
     "output_type": "display_data"
    }
   ],
   "source": [
    "sns.countplot(x = \"Science\", data = candyData, order = candyData[\"Science\"].value_counts().index)\n",
    "plt.title(\"Science distribution\")\n",
    "plt.show()"
   ]
  },
  {
   "cell_type": "markdown",
   "id": "d492dc54",
   "metadata": {},
   "source": [
    "### Discovering `ESPN` column"
   ]
  },
  {
   "cell_type": "code",
   "execution_count": 95,
   "id": "a074a1fd",
   "metadata": {},
   "outputs": [
    {
     "data": {
      "text/plain": [
       "array(['unknown', 1.0], dtype=object)"
      ]
     },
     "execution_count": 95,
     "metadata": {},
     "output_type": "execute_result"
    }
   ],
   "source": [
    "# show unique values\n",
    "\n",
    "candyData[\"ESPN\"].unique()"
   ]
  },
  {
   "cell_type": "code",
   "execution_count": 62,
   "id": "606a8a40",
   "metadata": {},
   "outputs": [
    {
     "data": {
      "text/plain": [
       "2361"
      ]
     },
     "execution_count": 62,
     "metadata": {},
     "output_type": "execute_result"
    }
   ],
   "source": [
    "# show how many nan value \n",
    "\n",
    "candyData[\"ESPN\"].isna().sum()"
   ]
  },
  {
   "cell_type": "code",
   "execution_count": 63,
   "id": "d46f850c",
   "metadata": {},
   "outputs": [],
   "source": [
    "# fill nan value \n",
    "\n",
    "candyData[\"ESPN\"].fillna(\"unknown\", inplace = True)"
   ]
  },
  {
   "cell_type": "code",
   "execution_count": 64,
   "id": "dc793553",
   "metadata": {},
   "outputs": [
    {
     "data": {
      "text/plain": [
       "unknown    2361\n",
       "1.0          99\n",
       "Name: ESPN, dtype: int64"
      ]
     },
     "execution_count": 64,
     "metadata": {},
     "output_type": "execute_result"
    }
   ],
   "source": [
    "# # output value counts of each unique values\n",
    "\n",
    "candyData[\"ESPN\"].value_counts()"
   ]
  },
  {
   "cell_type": "code",
   "execution_count": 65,
   "id": "ec06cf70",
   "metadata": {},
   "outputs": [
    {
     "data": {
      "image/png": "[encoded data removed]",
      "text/plain": [
       "<Figure size 640x480 with 1 Axes>"
      ]
     },
     "metadata": {},
     "output_type": "display_data"
    }
   ],
   "source": [
    "sns.countplot(x = \"ESPN\", data = candyData, order = candyData[\"ESPN\"].value_counts().index)\n",
    "plt.title(\"ESPN distribution\")\n",
    "plt.show()"
   ]
  },
  {
   "cell_type": "markdown",
   "id": "cc35c02d",
   "metadata": {},
   "source": [
    "### Discovering `Daily Dish` column"
   ]
  },
  {
   "cell_type": "code",
   "execution_count": 66,
   "id": "1e17ae0a",
   "metadata": {},
   "outputs": [
    {
     "data": {
      "text/plain": [
       "array([nan,  1.])"
      ]
     },
     "execution_count": 66,
     "metadata": {},
     "output_type": "execute_result"
    }
   ],
   "source": [
    "# show unique values\n",
    "\n",
    "candyData[\"Daily Dish\"].unique()"
   ]
  },
  {
   "cell_type": "code",
   "execution_count": 67,
   "id": "bc4a9274",
   "metadata": {},
   "outputs": [
    {
     "data": {
      "text/plain": [
       "2375"
      ]
     },
     "execution_count": 67,
     "metadata": {},
     "output_type": "execute_result"
    }
   ],
   "source": [
    "# show how many nan value \n",
    "\n",
    "candyData[\"Daily Dish\"].isna().sum()"
   ]
  },
  {
   "cell_type": "code",
   "execution_count": 68,
   "id": "766ae777",
   "metadata": {},
   "outputs": [],
   "source": [
    "# fill nan value \n",
    "\n",
    "candyData[\"Daily Dish\"].fillna(\"unknown\", inplace = True)"
   ]
  },
  {
   "cell_type": "code",
   "execution_count": 69,
   "id": "cc1da30e",
   "metadata": {},
   "outputs": [
    {
     "data": {
      "text/plain": [
       "unknown    2375\n",
       "1.0          85\n",
       "Name: Daily Dish, dtype: int64"
      ]
     },
     "execution_count": 69,
     "metadata": {},
     "output_type": "execute_result"
    }
   ],
   "source": [
    "# # output value counts of each unique values\n",
    "\n",
    "candyData[\"Daily Dish\"].value_counts()"
   ]
  },
  {
   "cell_type": "code",
   "execution_count": 70,
   "id": "e0fa2568",
   "metadata": {},
   "outputs": [
    {
     "data": {
      "image/png": "[encoded data removed]",
      "text/plain": [
       "<Figure size 640x480 with 1 Axes>"
      ]
     },
     "metadata": {},
     "output_type": "display_data"
    }
   ],
   "source": [
    "sns.countplot(x = \"Daily Dish\", data = candyData, order = candyData[\"Daily Dish\"].value_counts().index)\n",
    "plt.title(\"Daily Dish distribution\")\n",
    "plt.show()"
   ]
  },
  {
   "cell_type": "markdown",
   "id": "2ffe846d",
   "metadata": {},
   "source": [
    "### Discovering `Yahoo` column"
   ]
  },
  {
   "cell_type": "code",
   "execution_count": 71,
   "id": "26abec8a",
   "metadata": {},
   "outputs": [
    {
     "data": {
      "text/plain": [
       "array([nan,  1.])"
      ]
     },
     "execution_count": 71,
     "metadata": {},
     "output_type": "execute_result"
    }
   ],
   "source": [
    "# show unique values\n",
    "\n",
    "candyData[\"Yahoo\"].unique()"
   ]
  },
  {
   "cell_type": "code",
   "execution_count": 72,
   "id": "41dac871",
   "metadata": {},
   "outputs": [
    {
     "data": {
      "text/plain": [
       "2393"
      ]
     },
     "execution_count": 72,
     "metadata": {},
     "output_type": "execute_result"
    }
   ],
   "source": [
    "# show how many nan value \n",
    "\n",
    "candyData[\"Yahoo\"].isna().sum()"
   ]
  },
  {
   "cell_type": "code",
   "execution_count": 73,
   "id": "5d0ae50a",
   "metadata": {},
   "outputs": [],
   "source": [
    "# fill nan value \n",
    "\n",
    "candyData[\"Yahoo\"].fillna(\"unknown\", inplace = True)"
   ]
  },
  {
   "cell_type": "code",
   "execution_count": 74,
   "id": "3121002e",
   "metadata": {},
   "outputs": [
    {
     "data": {
      "text/plain": [
       "unknown    2393\n",
       "1.0          67\n",
       "Name: Yahoo, dtype: int64"
      ]
     },
     "execution_count": 74,
     "metadata": {},
     "output_type": "execute_result"
    }
   ],
   "source": [
    "# # output value counts of each unique values\n",
    "\n",
    "candyData[\"Yahoo\"].value_counts()"
   ]
  },
  {
   "cell_type": "code",
   "execution_count": 75,
   "id": "8f0054c3",
   "metadata": {},
   "outputs": [
    {
     "data": {
      "image/png": "[encoded data removed]",
      "text/plain": [
       "<Figure size 640x480 with 1 Axes>"
      ]
     },
     "metadata": {},
     "output_type": "display_data"
    }
   ],
   "source": [
    "sns.countplot(x = \"Yahoo\", data = candyData, order = candyData[\"Yahoo\"].value_counts().index)\n",
    "plt.title(\"Yahoo distribution\")\n",
    "plt.show()"
   ]
  },
  {
   "cell_type": "code",
   "execution_count": 76,
   "id": "f2297fe0",
   "metadata": {},
   "outputs": [],
   "source": [
    "# Show most website checked out\n",
    "\n",
    "# 1- craate list of media category\n",
    "media_category = [\"Science\", \"ESPN\", \"Daily Dish\", \"Yahoo\"]\n",
    "\n",
    "# 2- create dictionary key is media category and value is number of ones\n",
    "media_used = {}\n",
    "\n",
    "# 3- loop of list madie to get number of ones\n",
    "for category in media_category:\n",
    "    media_used[category] = len(candyData[candyData[category] == 1.0])\n",
    "    \n",
    "# 4- calculation number of No answer \n",
    "media_used[\"No answer\"] = candyData.shape[0] - sum(media_used.values())\n",
    "\n",
    "# 5- sorte media_used by values\n",
    "media_used = dict(sorted(media_used.items(), key = lambda item : item[1] ,reverse = True))\n",
    "\n",
    "# 6- get all keys in media_used\n",
    "keys = list(media_used.keys())\n",
    "\n",
    "# 7- get all values in media_used\n",
    "values = list(media_used.values())"
   ]
  },
  {
   "cell_type": "code",
   "execution_count": 77,
   "id": "52c061dd",
   "metadata": {},
   "outputs": [
    {
     "data": {
      "image/png": "[encoded data removed]",
      "text/plain": [
       "<Figure size 640x480 with 1 Axes>"
      ]
     },
     "metadata": {},
     "output_type": "display_data"
    }
   ],
   "source": [
    "sns.barplot(x = keys, y = values)\n",
    "plt.title(\"media distirbution\")\n",
    "plt.xlabel(\"Media\"); plt.ylabel(\"Count\")\n",
    "plt.show()"
   ]
  },
  {
   "cell_type": "markdown",
   "id": "c2ddc45f",
   "metadata": {},
   "source": [
    "- #### Science is the most  website checked out"
   ]
  },
  {
   "cell_type": "markdown",
   "id": "618a4381",
   "metadata": {},
   "source": [
    "# Create new DataFrame `candy`"
   ]
  },
  {
   "cell_type": "code",
   "execution_count": 78,
   "id": "13c2eef9",
   "metadata": {},
   "outputs": [],
   "source": [
    "# 1- create list of Question columns \n",
    "Question = [candy for candy in candyData.columns if 'Q6' in str(candy)]\n",
    "\n",
    "# 2- create dataframe call candy\n",
    "candy = pd.DataFrame(candyData[Question])"
   ]
  },
  {
   "cell_type": "code",
   "execution_count": 79,
   "id": "bcc7c6b8",
   "metadata": {},
   "outputs": [
    {
     "data": {
      "text/html": [
       "<div>\n",
       "<style scoped>\n",
       "    .dataframe tbody tr th:only-of-type {\n",
       "        vertical-align: middle;\n",
       "    }\n",
       "\n",
       "    .dataframe tbody tr th {\n",
       "        vertical-align: top;\n",
       "    }\n",
       "\n",
       "    .dataframe thead th {\n",
       "        text-align: right;\n",
       "    }\n",
       "</style>\n",
       "<table border=\"1\" class=\"dataframe\">\n",
       "  <thead>\n",
       "    <tr style=\"text-align: right;\">\n",
       "      <th></th>\n",
       "      <th>Q6 | 100 Grand Bar</th>\n",
       "      <th>Q6 | Anonymous brown globs that come in black and orange wrappers\\t(a.k.a. Mary Janes)</th>\n",
       "      <th>Q6 | Any full-sized candy bar</th>\n",
       "      <th>Q6 | Black Jacks</th>\n",
       "      <th>Q6 | Bonkers (the candy)</th>\n",
       "      <th>Q6 | Bonkers (the board game)</th>\n",
       "      <th>Q6 | Bottle Caps</th>\n",
       "      <th>Q6 | Box'o'Raisins</th>\n",
       "      <th>Q6 | Broken glow stick</th>\n",
       "      <th>Q6 | Butterfinger</th>\n",
       "      <th>...</th>\n",
       "      <th>Q6 | Three Musketeers</th>\n",
       "      <th>Q6 | Tolberone something or other</th>\n",
       "      <th>Q6 | Trail Mix</th>\n",
       "      <th>Q6 | Twix</th>\n",
       "      <th>Q6 | Vials of pure high fructose corn syrup, for main-lining into your vein</th>\n",
       "      <th>Q6 | Vicodin</th>\n",
       "      <th>Q6 | Whatchamacallit Bars</th>\n",
       "      <th>Q6 | White Bread</th>\n",
       "      <th>Q6 | Whole Wheat anything</th>\n",
       "      <th>Q6 | York Peppermint Patties</th>\n",
       "    </tr>\n",
       "  </thead>\n",
       "  <tbody>\n",
       "    <tr>\n",
       "      <th>2411</th>\n",
       "      <td>MEH</td>\n",
       "      <td>DESPAIR</td>\n",
       "      <td>JOY</td>\n",
       "      <td>MEH</td>\n",
       "      <td>MEH</td>\n",
       "      <td>MEH</td>\n",
       "      <td>MEH</td>\n",
       "      <td>MEH</td>\n",
       "      <td>DESPAIR</td>\n",
       "      <td>JOY</td>\n",
       "      <td>...</td>\n",
       "      <td>MEH</td>\n",
       "      <td>JOY</td>\n",
       "      <td>MEH</td>\n",
       "      <td>JOY</td>\n",
       "      <td>DESPAIR</td>\n",
       "      <td>DESPAIR</td>\n",
       "      <td>DESPAIR</td>\n",
       "      <td>MEH</td>\n",
       "      <td>MEH</td>\n",
       "      <td>MEH</td>\n",
       "    </tr>\n",
       "    <tr>\n",
       "      <th>2195</th>\n",
       "      <td>MEH</td>\n",
       "      <td>DESPAIR</td>\n",
       "      <td>JOY</td>\n",
       "      <td>MEH</td>\n",
       "      <td>MEH</td>\n",
       "      <td>MEH</td>\n",
       "      <td>MEH</td>\n",
       "      <td>MEH</td>\n",
       "      <td>MEH</td>\n",
       "      <td>JOY</td>\n",
       "      <td>...</td>\n",
       "      <td>JOY</td>\n",
       "      <td>MEH</td>\n",
       "      <td>DESPAIR</td>\n",
       "      <td>JOY</td>\n",
       "      <td>DESPAIR</td>\n",
       "      <td>MEH</td>\n",
       "      <td>DESPAIR</td>\n",
       "      <td>DESPAIR</td>\n",
       "      <td>DESPAIR</td>\n",
       "      <td>DESPAIR</td>\n",
       "    </tr>\n",
       "    <tr>\n",
       "      <th>2204</th>\n",
       "      <td>NaN</td>\n",
       "      <td>MEH</td>\n",
       "      <td>JOY</td>\n",
       "      <td>NaN</td>\n",
       "      <td>NaN</td>\n",
       "      <td>NaN</td>\n",
       "      <td>NaN</td>\n",
       "      <td>DESPAIR</td>\n",
       "      <td>DESPAIR</td>\n",
       "      <td>MEH</td>\n",
       "      <td>...</td>\n",
       "      <td>JOY</td>\n",
       "      <td>JOY</td>\n",
       "      <td>MEH</td>\n",
       "      <td>JOY</td>\n",
       "      <td>MEH</td>\n",
       "      <td>MEH</td>\n",
       "      <td>MEH</td>\n",
       "      <td>MEH</td>\n",
       "      <td>DESPAIR</td>\n",
       "      <td>JOY</td>\n",
       "    </tr>\n",
       "    <tr>\n",
       "      <th>100</th>\n",
       "      <td>NaN</td>\n",
       "      <td>NaN</td>\n",
       "      <td>NaN</td>\n",
       "      <td>NaN</td>\n",
       "      <td>NaN</td>\n",
       "      <td>NaN</td>\n",
       "      <td>NaN</td>\n",
       "      <td>NaN</td>\n",
       "      <td>NaN</td>\n",
       "      <td>NaN</td>\n",
       "      <td>...</td>\n",
       "      <td>NaN</td>\n",
       "      <td>NaN</td>\n",
       "      <td>NaN</td>\n",
       "      <td>NaN</td>\n",
       "      <td>NaN</td>\n",
       "      <td>NaN</td>\n",
       "      <td>NaN</td>\n",
       "      <td>NaN</td>\n",
       "      <td>NaN</td>\n",
       "      <td>NaN</td>\n",
       "    </tr>\n",
       "    <tr>\n",
       "      <th>1744</th>\n",
       "      <td>MEH</td>\n",
       "      <td>DESPAIR</td>\n",
       "      <td>JOY</td>\n",
       "      <td>DESPAIR</td>\n",
       "      <td>DESPAIR</td>\n",
       "      <td>JOY</td>\n",
       "      <td>MEH</td>\n",
       "      <td>DESPAIR</td>\n",
       "      <td>DESPAIR</td>\n",
       "      <td>MEH</td>\n",
       "      <td>...</td>\n",
       "      <td>JOY</td>\n",
       "      <td>JOY</td>\n",
       "      <td>JOY</td>\n",
       "      <td>MEH</td>\n",
       "      <td>DESPAIR</td>\n",
       "      <td>JOY</td>\n",
       "      <td>JOY</td>\n",
       "      <td>DESPAIR</td>\n",
       "      <td>DESPAIR</td>\n",
       "      <td>JOY</td>\n",
       "    </tr>\n",
       "  </tbody>\n",
       "</table>\n",
       "<p>5 rows × 103 columns</p>\n",
       "</div>"
      ],
      "text/plain": [
       "     Q6 | 100 Grand Bar  \\\n",
       "2411                MEH   \n",
       "2195                MEH   \n",
       "2204                NaN   \n",
       "100                 NaN   \n",
       "1744                MEH   \n",
       "\n",
       "     Q6 | Anonymous brown globs that come in black and orange wrappers\\t(a.k.a. Mary Janes)  \\\n",
       "2411                                            DESPAIR                                       \n",
       "2195                                            DESPAIR                                       \n",
       "2204                                                MEH                                       \n",
       "100                                                 NaN                                       \n",
       "1744                                            DESPAIR                                       \n",
       "\n",
       "     Q6 | Any full-sized candy bar Q6 | Black Jacks Q6 | Bonkers (the candy)  \\\n",
       "2411                           JOY              MEH                      MEH   \n",
       "2195                           JOY              MEH                      MEH   \n",
       "2204                           JOY              NaN                      NaN   \n",
       "100                            NaN              NaN                      NaN   \n",
       "1744                           JOY          DESPAIR                  DESPAIR   \n",
       "\n",
       "     Q6 | Bonkers (the board game) Q6 | Bottle Caps Q6 | Box'o'Raisins  \\\n",
       "2411                           MEH              MEH                MEH   \n",
       "2195                           MEH              MEH                MEH   \n",
       "2204                           NaN              NaN            DESPAIR   \n",
       "100                            NaN              NaN                NaN   \n",
       "1744                           JOY              MEH            DESPAIR   \n",
       "\n",
       "     Q6 | Broken glow stick Q6 | Butterfinger  ... Q6 | Three Musketeers  \\\n",
       "2411                DESPAIR               JOY  ...                   MEH   \n",
       "2195                    MEH               JOY  ...                   JOY   \n",
       "2204                DESPAIR               MEH  ...                   JOY   \n",
       "100                     NaN               NaN  ...                   NaN   \n",
       "1744                DESPAIR               MEH  ...                   JOY   \n",
       "\n",
       "     Q6 | Tolberone something or other Q6 | Trail Mix Q6 | Twix  \\\n",
       "2411                               JOY            MEH       JOY   \n",
       "2195                               MEH        DESPAIR       JOY   \n",
       "2204                               JOY            MEH       JOY   \n",
       "100                                NaN            NaN       NaN   \n",
       "1744                               JOY            JOY       MEH   \n",
       "\n",
       "     Q6 | Vials of pure high fructose corn syrup, for main-lining into your vein  \\\n",
       "2411                                            DESPAIR                            \n",
       "2195                                            DESPAIR                            \n",
       "2204                                                MEH                            \n",
       "100                                                 NaN                            \n",
       "1744                                            DESPAIR                            \n",
       "\n",
       "     Q6 | Vicodin Q6 | Whatchamacallit Bars Q6 | White Bread  \\\n",
       "2411      DESPAIR                   DESPAIR              MEH   \n",
       "2195          MEH                   DESPAIR          DESPAIR   \n",
       "2204          MEH                       MEH              MEH   \n",
       "100           NaN                       NaN              NaN   \n",
       "1744          JOY                       JOY          DESPAIR   \n",
       "\n",
       "     Q6 | Whole Wheat anything Q6 | York Peppermint Patties  \n",
       "2411                       MEH                          MEH  \n",
       "2195                   DESPAIR                      DESPAIR  \n",
       "2204                   DESPAIR                          JOY  \n",
       "100                        NaN                          NaN  \n",
       "1744                   DESPAIR                          JOY  \n",
       "\n",
       "[5 rows x 103 columns]"
      ]
     },
     "execution_count": 79,
     "metadata": {},
     "output_type": "execute_result"
    }
   ],
   "source": [
    "# show sample of dataframe\n",
    "\n",
    "candy.sample(5)"
   ]
  },
  {
   "cell_type": "code",
   "execution_count": 80,
   "id": "c3edaac5",
   "metadata": {},
   "outputs": [
    {
     "data": {
      "text/plain": [
       "(2460, 103)"
      ]
     },
     "execution_count": 80,
     "metadata": {},
     "output_type": "execute_result"
    }
   ],
   "source": [
    "candy.shape"
   ]
  },
  {
   "cell_type": "code",
   "execution_count": 81,
   "id": "229ef01c",
   "metadata": {},
   "outputs": [
    {
     "data": {
      "text/plain": [
       "Q6 | 100 Grand Bar                                                                        747\n",
       "Q6 | Anonymous brown globs that come in black and orange wrappers\\t(a.k.a. Mary Janes)    734\n",
       "Q6 | Any full-sized candy bar                                                             672\n",
       "Q6 | Black Jacks                                                                          958\n",
       "Q6 | Bonkers (the candy)                                                                  992\n",
       "                                                                                         ... \n",
       "Q6 | Vicodin                                                                              789\n",
       "Q6 | Whatchamacallit Bars                                                                 823\n",
       "Q6 | White Bread                                                                          757\n",
       "Q6 | Whole Wheat anything                                                                 747\n",
       "Q6 | York Peppermint Patties                                                              705\n",
       "Length: 103, dtype: int64"
      ]
     },
     "execution_count": 81,
     "metadata": {},
     "output_type": "execute_result"
    }
   ],
   "source": [
    "# show how many nan value in each column\n",
    "\n",
    "candy.isna().sum()"
   ]
  },
  {
   "cell_type": "markdown",
   "id": "5c566c63",
   "metadata": {},
   "source": [
    "### Above cells' conclusion\n",
    "\n",
    "- We need to fill nan value with other numeric value\n",
    "- We need to replace all values to numeric value\n",
    "- We need to rename column name to avoid confusion"
   ]
  },
  {
   "cell_type": "markdown",
   "id": "978580c7",
   "metadata": {},
   "source": [
    "## Cleaning"
   ]
  },
  {
   "cell_type": "code",
   "execution_count": 82,
   "id": "6fe4820e",
   "metadata": {},
   "outputs": [],
   "source": [
    "# fill nan value \n",
    "\n",
    "candy.fillna(\"unknown\", inplace = True)"
   ]
  },
  {
   "cell_type": "code",
   "execution_count": 83,
   "id": "a4f23cc5",
   "metadata": {},
   "outputs": [],
   "source": [
    "# handle candy columns name\n",
    "\n",
    "# 1- create  dictionary key is old name and value is new name of each column\n",
    "names = {}\n",
    "\n",
    "# 2- loop over columns to fixed name and store old and new name in names\n",
    "for col in candy.columns:\n",
    "    names[col] = col.strip(\"Q6 | \")\n",
    "    \n",
    "# 3- rename columns\n",
    "candy.rename(columns = names, inplace= True)"
   ]
  },
  {
   "cell_type": "code",
   "execution_count": 84,
   "id": "57785d70",
   "metadata": {},
   "outputs": [
    {
     "data": {
      "text/plain": [
       "100 Grand Bar                                                                        4\n",
       "Anonymous brown globs that come in black and orange wrappers\\t(a.k.a. Mary Janes)    4\n",
       "Any full-sized candy bar                                                             4\n",
       "Black Jacks                                                                          4\n",
       "Bonkers (the candy)                                                                  4\n",
       "                                                                                    ..\n",
       "Vicodin                                                                              4\n",
       "Whatchamacallit Bars                                                                 4\n",
       "White Bread                                                                          4\n",
       "Whole Wheat anything                                                                 4\n",
       "York Peppermint Patties                                                              4\n",
       "Length: 103, dtype: int64"
      ]
     },
     "execution_count": 84,
     "metadata": {},
     "output_type": "execute_result"
    }
   ],
   "source": [
    "# show all column has same value or not\n",
    "\n",
    "candy.nunique()"
   ]
  },
  {
   "cell_type": "code",
   "execution_count": 85,
   "id": "54c691e2",
   "metadata": {},
   "outputs": [
    {
     "data": {
      "text/plain": [
       "array(['unknown', 'MEH', 'JOY', 'DESPAIR'], dtype=object)"
      ]
     },
     "execution_count": 85,
     "metadata": {},
     "output_type": "execute_result"
    }
   ],
   "source": [
    "# show unique value in each column\n",
    "\n",
    "candy[\"100 Grand Bar\"].unique()"
   ]
  },
  {
   "cell_type": "markdown",
   "id": "a662d78b",
   "metadata": {},
   "source": [
    "## We have 4 value in each column\n",
    "\n",
    "- convert DESPAIR to `-1`\n",
    "- convert Joy to `1`\n",
    "- convert MEH to `0`\n",
    "- convert unknown to `0`"
   ]
  },
  {
   "cell_type": "code",
   "execution_count": 86,
   "id": "75d0b15c",
   "metadata": {},
   "outputs": [],
   "source": [
    "# replace all value with numeric value\n",
    "\n",
    "candy.replace({\"DESPAIR\" : -1, \"JOY\" : 1, \"MEH\" : 0, \"unknown\" : 0}, inplace = True)"
   ]
  },
  {
   "cell_type": "code",
   "execution_count": 87,
   "id": "c2173152",
   "metadata": {},
   "outputs": [
    {
     "data": {
      "text/html": [
       "<div>\n",
       "<style scoped>\n",
       "    .dataframe tbody tr th:only-of-type {\n",
       "        vertical-align: middle;\n",
       "    }\n",
       "\n",
       "    .dataframe tbody tr th {\n",
       "        vertical-align: top;\n",
       "    }\n",
       "\n",
       "    .dataframe thead th {\n",
       "        text-align: right;\n",
       "    }\n",
       "</style>\n",
       "<table border=\"1\" class=\"dataframe\">\n",
       "  <thead>\n",
       "    <tr style=\"text-align: right;\">\n",
       "      <th></th>\n",
       "      <th>100 Grand Bar</th>\n",
       "      <th>Anonymous brown globs that come in black and orange wrappers\\t(a.k.a. Mary Janes)</th>\n",
       "      <th>Any full-sized candy bar</th>\n",
       "      <th>Black Jacks</th>\n",
       "      <th>Bonkers (the candy)</th>\n",
       "      <th>Bonkers (the board game)</th>\n",
       "      <th>Bottle Caps</th>\n",
       "      <th>Box'o'Raisins</th>\n",
       "      <th>Broken glow stick</th>\n",
       "      <th>Butterfinger</th>\n",
       "      <th>...</th>\n",
       "      <th>Three Musketeers</th>\n",
       "      <th>Tolberone something or other</th>\n",
       "      <th>Trail Mix</th>\n",
       "      <th>Twix</th>\n",
       "      <th>Vials of pure high fructose corn syrup, for main-lining into your vein</th>\n",
       "      <th>Vicodin</th>\n",
       "      <th>Whatchamacallit Bars</th>\n",
       "      <th>White Bread</th>\n",
       "      <th>Whole Wheat anything</th>\n",
       "      <th>York Peppermint Patties</th>\n",
       "    </tr>\n",
       "  </thead>\n",
       "  <tbody>\n",
       "    <tr>\n",
       "      <th>742</th>\n",
       "      <td>0</td>\n",
       "      <td>0</td>\n",
       "      <td>0</td>\n",
       "      <td>0</td>\n",
       "      <td>0</td>\n",
       "      <td>0</td>\n",
       "      <td>0</td>\n",
       "      <td>0</td>\n",
       "      <td>0</td>\n",
       "      <td>0</td>\n",
       "      <td>...</td>\n",
       "      <td>0</td>\n",
       "      <td>0</td>\n",
       "      <td>0</td>\n",
       "      <td>0</td>\n",
       "      <td>0</td>\n",
       "      <td>0</td>\n",
       "      <td>0</td>\n",
       "      <td>0</td>\n",
       "      <td>0</td>\n",
       "      <td>0</td>\n",
       "    </tr>\n",
       "    <tr>\n",
       "      <th>330</th>\n",
       "      <td>1</td>\n",
       "      <td>-1</td>\n",
       "      <td>1</td>\n",
       "      <td>0</td>\n",
       "      <td>0</td>\n",
       "      <td>0</td>\n",
       "      <td>-1</td>\n",
       "      <td>-1</td>\n",
       "      <td>-1</td>\n",
       "      <td>1</td>\n",
       "      <td>...</td>\n",
       "      <td>0</td>\n",
       "      <td>0</td>\n",
       "      <td>-1</td>\n",
       "      <td>1</td>\n",
       "      <td>-1</td>\n",
       "      <td>-1</td>\n",
       "      <td>0</td>\n",
       "      <td>-1</td>\n",
       "      <td>-1</td>\n",
       "      <td>0</td>\n",
       "    </tr>\n",
       "    <tr>\n",
       "      <th>967</th>\n",
       "      <td>1</td>\n",
       "      <td>0</td>\n",
       "      <td>1</td>\n",
       "      <td>0</td>\n",
       "      <td>0</td>\n",
       "      <td>0</td>\n",
       "      <td>0</td>\n",
       "      <td>0</td>\n",
       "      <td>-1</td>\n",
       "      <td>1</td>\n",
       "      <td>...</td>\n",
       "      <td>1</td>\n",
       "      <td>1</td>\n",
       "      <td>0</td>\n",
       "      <td>1</td>\n",
       "      <td>-1</td>\n",
       "      <td>-1</td>\n",
       "      <td>1</td>\n",
       "      <td>-1</td>\n",
       "      <td>-1</td>\n",
       "      <td>0</td>\n",
       "    </tr>\n",
       "    <tr>\n",
       "      <th>248</th>\n",
       "      <td>1</td>\n",
       "      <td>0</td>\n",
       "      <td>1</td>\n",
       "      <td>-1</td>\n",
       "      <td>0</td>\n",
       "      <td>-1</td>\n",
       "      <td>1</td>\n",
       "      <td>-1</td>\n",
       "      <td>-1</td>\n",
       "      <td>1</td>\n",
       "      <td>...</td>\n",
       "      <td>0</td>\n",
       "      <td>0</td>\n",
       "      <td>-1</td>\n",
       "      <td>0</td>\n",
       "      <td>-1</td>\n",
       "      <td>1</td>\n",
       "      <td>1</td>\n",
       "      <td>-1</td>\n",
       "      <td>-1</td>\n",
       "      <td>1</td>\n",
       "    </tr>\n",
       "    <tr>\n",
       "      <th>1208</th>\n",
       "      <td>0</td>\n",
       "      <td>-1</td>\n",
       "      <td>1</td>\n",
       "      <td>0</td>\n",
       "      <td>0</td>\n",
       "      <td>0</td>\n",
       "      <td>-1</td>\n",
       "      <td>0</td>\n",
       "      <td>-1</td>\n",
       "      <td>1</td>\n",
       "      <td>...</td>\n",
       "      <td>1</td>\n",
       "      <td>1</td>\n",
       "      <td>0</td>\n",
       "      <td>1</td>\n",
       "      <td>-1</td>\n",
       "      <td>1</td>\n",
       "      <td>0</td>\n",
       "      <td>0</td>\n",
       "      <td>-1</td>\n",
       "      <td>1</td>\n",
       "    </tr>\n",
       "  </tbody>\n",
       "</table>\n",
       "<p>5 rows × 103 columns</p>\n",
       "</div>"
      ],
      "text/plain": [
       "      100 Grand Bar  \\\n",
       "742               0   \n",
       "330               1   \n",
       "967               1   \n",
       "248               1   \n",
       "1208              0   \n",
       "\n",
       "      Anonymous brown globs that come in black and orange wrappers\\t(a.k.a. Mary Janes)  \\\n",
       "742                                                   0                                   \n",
       "330                                                  -1                                   \n",
       "967                                                   0                                   \n",
       "248                                                   0                                   \n",
       "1208                                                 -1                                   \n",
       "\n",
       "      Any full-sized candy bar  Black Jacks  Bonkers (the candy)  \\\n",
       "742                          0            0                    0   \n",
       "330                          1            0                    0   \n",
       "967                          1            0                    0   \n",
       "248                          1           -1                    0   \n",
       "1208                         1            0                    0   \n",
       "\n",
       "      Bonkers (the board game)  Bottle Caps  Box'o'Raisins  Broken glow stick  \\\n",
       "742                          0            0              0                  0   \n",
       "330                          0           -1             -1                 -1   \n",
       "967                          0            0              0                 -1   \n",
       "248                         -1            1             -1                 -1   \n",
       "1208                         0           -1              0                 -1   \n",
       "\n",
       "      Butterfinger  ...  Three Musketeers  Tolberone something or other  \\\n",
       "742              0  ...                 0                             0   \n",
       "330              1  ...                 0                             0   \n",
       "967              1  ...                 1                             1   \n",
       "248              1  ...                 0                             0   \n",
       "1208             1  ...                 1                             1   \n",
       "\n",
       "      Trail Mix  Twix  \\\n",
       "742           0     0   \n",
       "330          -1     1   \n",
       "967           0     1   \n",
       "248          -1     0   \n",
       "1208          0     1   \n",
       "\n",
       "      Vials of pure high fructose corn syrup, for main-lining into your vein  \\\n",
       "742                                                   0                        \n",
       "330                                                  -1                        \n",
       "967                                                  -1                        \n",
       "248                                                  -1                        \n",
       "1208                                                 -1                        \n",
       "\n",
       "      Vicodin  Whatchamacallit Bars  White Bread  Whole Wheat anything  \\\n",
       "742         0                     0            0                     0   \n",
       "330        -1                     0           -1                    -1   \n",
       "967        -1                     1           -1                    -1   \n",
       "248         1                     1           -1                    -1   \n",
       "1208        1                     0            0                    -1   \n",
       "\n",
       "      York Peppermint Patties  \n",
       "742                         0  \n",
       "330                         0  \n",
       "967                         0  \n",
       "248                         1  \n",
       "1208                        1  \n",
       "\n",
       "[5 rows x 103 columns]"
      ]
     },
     "execution_count": 87,
     "metadata": {},
     "output_type": "execute_result"
    }
   ],
   "source": [
    "candy.sample(5)"
   ]
  },
  {
   "cell_type": "code",
   "execution_count": 88,
   "id": "c2c3e0f8",
   "metadata": {},
   "outputs": [],
   "source": [
    "# handle candy columns\n",
    "\n",
    "def visualizing(reversed):\n",
    "    # 1- create create dictionary key is Question and value is number of ones\n",
    "    candy_score = {}\n",
    "\n",
    "    # 2- loop over columns to get number of ones of each column\n",
    "    for column in candy.columns:\n",
    "        candy_score[column] = len(candy[candy[column] == 1])\n",
    "\n",
    "    # 3- sorte candy_score by values\n",
    "    candy_score = dict(sorted(candy_score.items(), key = lambda item : item[1] ,reverse = reversed))\n",
    "\n",
    "    # 4- get all keys in candy_score\n",
    "    keys = list(candy_score.keys())\n",
    "\n",
    "    # 5- get all values in candy_score\n",
    "    values = list(candy_score.values())\n",
    "    \n",
    "    # 6- visualizing column\n",
    "    sns.barplot(x = values[:10], y = keys[:10])\n",
    "    plt.title(\"Candy distirbution\")\n",
    "    plt.xlabel(\"Count\"); plt.ylabel(\"Candy\")\n",
    "    plt.show()"
   ]
  },
  {
   "cell_type": "code",
   "execution_count": 89,
   "id": "e71facd5",
   "metadata": {},
   "outputs": [
    {
     "data": {
      "image/png": "[encoded data removed]",
      "text/plain": [
       "<Figure size 640x480 with 1 Axes>"
      ]
     },
     "metadata": {},
     "output_type": "display_data"
    }
   ],
   "source": [
    "# show best candy\n",
    "visualizing(True)"
   ]
  },
  {
   "cell_type": "markdown",
   "id": "1b57a4c5",
   "metadata": {},
   "source": [
    "- #### Any full-sized candy bar is the most loved candy "
   ]
  },
  {
   "cell_type": "code",
   "execution_count": 90,
   "id": "ceda1c95",
   "metadata": {},
   "outputs": [
    {
     "data": {
      "image/png": "[encoded data removed]",
      "text/plain": [
       "<Figure size 640x480 with 1 Axes>"
      ]
     },
     "metadata": {},
     "output_type": "display_data"
    }
   ],
   "source": [
    "# show hated candy\n",
    "visualizing(False)"
   ]
  },
  {
   "cell_type": "markdown",
   "id": "4710e2db",
   "metadata": {},
   "source": [
    "- #### Broken glow stick is the most hated candy"
   ]
  },
  {
   "cell_type": "markdown",
   "id": "ba49c759",
   "metadata": {},
   "source": [
    "# Bivariate Questions"
   ]
  },
  {
   "cell_type": "code",
   "execution_count": 91,
   "id": "d7787ac3",
   "metadata": {},
   "outputs": [
    {
     "data": {
      "image/png": "[encoded data removed]",
      "text/plain": [
       "<Figure size 640x480 with 1 Axes>"
      ]
     },
     "metadata": {},
     "output_type": "display_data"
    }
   ],
   "source": [
    "sns.countplot(x = \"gender\", hue = \"going out\", data = candyData)\n",
    "plt.title(\"Relationship between going out and gender\")\n",
    "plt.show()"
   ]
  },
  {
   "cell_type": "markdown",
   "id": "ee48f803",
   "metadata": {},
   "source": [
    "- #### Most people are going out is `male`"
   ]
  },
  {
   "cell_type": "code",
   "execution_count": 92,
   "id": "1055ef33",
   "metadata": {},
   "outputs": [
    {
     "data": {
      "image/png": "[encoded data removed]",
      "text/plain": [
       "<Figure size 640x480 with 1 Axes>"
      ]
     },
     "metadata": {},
     "output_type": "display_data"
    }
   ],
   "source": [
    "sns.countplot(x = \"gender\", hue = \"dress\", data = candyData)\n",
    "plt.title(\"Reltionship between dress and gender\")\n",
    "plt.show()"
   ]
  },
  {
   "cell_type": "markdown",
   "id": "cb6aec89",
   "metadata": {},
   "source": [
    "- #### male and female saw the dress white and gold"
   ]
  },
  {
   "cell_type": "code",
   "execution_count": 93,
   "id": "a1fe544f",
   "metadata": {},
   "outputs": [
    {
     "data": {
      "image/png": "[encoded data removed]",
      "text/plain": [
       "<Figure size 640x480 with 1 Axes>"
      ]
     },
     "metadata": {},
     "output_type": "display_data"
    }
   ],
   "source": [
    "sns.countplot(x = \"gender\", hue = \"day\", data = candyData)\n",
    "plt.title(\"Relationship between gender and day\")\n",
    "plt.show()"
   ]
  },
  {
   "cell_type": "markdown",
   "id": "f1fb9f42",
   "metadata": {},
   "source": [
    "- #### Both male and female preferred day is friday"
   ]
  },
  {
   "cell_type": "markdown",
   "id": "d5a84824",
   "metadata": {},
   "source": [
    "#  Conclusion"
   ]
  },
  {
   "cell_type": "markdown",
   "id": "f8606afb",
   "metadata": {},
   "source": [
    "- ### Univariate Analysis\n",
    "1. Most people aren't going out\n",
    "2. Male is the most common gender\n",
    "3. Most people who did the survey were between 35 and 50\n",
    "4. Most countries from USA and Canada\n",
    "5. Most people like dress white and gold\n",
    "6. Most people preferred friday\n",
    "7. Science is the most website checked out\n",
    "8. Full-sized candy bar is the most loved candy\n",
    "9. Broken glow stick is the most hated candy\n",
    "\n",
    "- ### Bivariate Analysis\n",
    "1. Most people are going out is male\n",
    "2. Male and female saw the dress white and gold\n",
    "3. Both male and female preferred day is friday"
   ]
  },
  {
   "cell_type": "markdown",
   "id": "414f0f58",
   "metadata": {},
   "source": [
    "# `In the end,In future I will do more analysis`"
   ]
  }
 ],
 "metadata": {
  "kernelspec": {
   "display_name": "Python 3 (ipykernel)",
   "language": "python",
   "name": "python3"
  },
  "language_info": {
   "codemirror_mode": {
    "name": "ipython",
    "version": 3
   },
   "file_extension": ".py",
   "mimetype": "text/x-python",
   "name": "python",
   "nbconvert_exporter": "python",
   "pygments_lexer": "ipython3",
   "version": "3.10.9"
  }
 },
 "nbformat": 4,
 "nbformat_minor": 5
}
